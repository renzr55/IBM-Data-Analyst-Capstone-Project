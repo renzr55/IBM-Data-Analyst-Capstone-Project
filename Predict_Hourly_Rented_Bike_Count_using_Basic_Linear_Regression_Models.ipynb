{
  "nbformat": 4,
  "nbformat_minor": 0,
  "metadata": {
    "colab": {
      "provenance": [],
      "authorship_tag": "ABX9TyO0dZ6t0ugXKq3xcNrxoGga",
      "include_colab_link": true
    },
    "kernelspec": {
      "name": "ir",
      "display_name": "R"
    },
    "language_info": {
      "name": "R"
    }
  },
  "cells": [
    {
      "cell_type": "markdown",
      "metadata": {
        "id": "view-in-github",
        "colab_type": "text"
      },
      "source": [
        "<a href=\"https://colab.research.google.com/github/renzr55/IBM-Data-Analyst-Capstone-Project/blob/main/Predict_Hourly_Rented_Bike_Count_using_Basic_Linear_Regression_Models.ipynb\" target=\"_parent\"><img src=\"https://colab.research.google.com/assets/colab-badge.svg\" alt=\"Open In Colab\"/></a>"
      ]
    },
    {
      "cell_type": "markdown",
      "source": [
        "<center>\n",
        "<img src=\"https://cf-courses-data.s3.us.cloud-object-storage.appdomain.cloud/IBMDeveloperSkillsNetwork-RP0321EN-SkillsNetwork/labs/module_1/images/SN_web_lightmode.png\" width=\"300\">\n",
        "</center>\n"
      ],
      "metadata": {
        "id": "7Iw7xXmLdDY0"
      }
    },
    {
      "cell_type": "markdown",
      "source": [
        "<h1>Predict Hourly Rented Bike Count using Basic Linear Regression Models</h1>\n",
        "\n",
        "Estimated time needed: **90** minutes\n"
      ],
      "metadata": {
        "id": "ZCpAahPBdGKI"
      }
    },
    {
      "cell_type": "markdown",
      "source": [
        "## Lab Overview:\n",
        "\n",
        "Now that you have performed exploratory analysis on the bike sharing demand dataset and obtained some insights on the attributes, it's time to build predictive models to predict the hourly rented bike count using related weather and date information.\n",
        "\n",
        "In this lab, you will be asked to use `tidymodels` to build some baseline linear regression models:\n",
        "- **TASK: Split data into training and testing datasets**\n",
        "- **TASK: Build a linear regression model using only the weather variables**\n",
        "- **TASK: Build a linear regression model using both weather and date variables**\n",
        "- **TASK: Evaluate the models and identify important variables**\n",
        "\n",
        "Let's start!\n"
      ],
      "metadata": {
        "id": "h4446eaTdI-A"
      }
    },
    {
      "cell_type": "markdown",
      "source": [
        "The tidyverse and the tidymodels packages can be used to produce high quality statistical and machine learning models. The Tidyverse library is a useful tool that provides various tools for data visualization, data manipulation, and read various datasets into a data frame; our Jupyter notebook platforms have a built-in Tidymodels, Tidyverse and rlang libraries, so we do not need to install these packages prior to loading library. However, if you decide to run this lab on your RStudio Desktop locally on your machine, you can remove the commented lines of code to install these packages before loading.\n"
      ],
      "metadata": {
        "id": "Dmj4KEJwdMK5"
      }
    },
    {
      "cell_type": "code",
      "execution_count": 1,
      "metadata": {
        "colab": {
          "base_uri": "https://localhost:8080/"
        },
        "id": "IntCJ8dXdAYy",
        "outputId": "87d9f470-c634-4692-de89-661226630067"
      },
      "outputs": [
        {
          "output_type": "stream",
          "name": "stderr",
          "text": [
            "Installing package into ‘/usr/local/lib/R/site-library’\n",
            "(as ‘lib’ is unspecified)\n",
            "\n",
            "Installing package into ‘/usr/local/lib/R/site-library’\n",
            "(as ‘lib’ is unspecified)\n",
            "\n",
            "also installing the dependencies ‘shape’, ‘numDeriv’, ‘progressr’, ‘SQUAREM’, ‘diagram’, ‘lava’, ‘prodlim’, ‘warp’, ‘future.apply’, ‘iterators’, ‘listenv’, ‘parallelly’, ‘lhs’, ‘DiceDesign’, ‘sfd’, ‘patchwork’, ‘globals’, ‘clock’, ‘gower’, ‘ipred’, ‘timeDate’, ‘furrr’, ‘slider’, ‘doFuture’, ‘foreach’, ‘future’, ‘GPfit’, ‘modelenv’, ‘dials’, ‘hardhat’, ‘infer’, ‘modeldata’, ‘parsnip’, ‘recipes’, ‘rsample’, ‘tune’, ‘workflows’, ‘workflowsets’, ‘yardstick’\n",
            "\n",
            "\n"
          ]
        }
      ],
      "source": [
        "# It may take several minutes to install those libraries in Watson Studio\n",
        "install.packages(\"rlang\")\n",
        "install.packages(\"tidymodels\")"
      ]
    },
    {
      "cell_type": "code",
      "source": [
        "library(\"tidymodels\")\n",
        "library(\"tidyverse\")\n",
        "library(\"stringr\")"
      ],
      "metadata": {
        "colab": {
          "base_uri": "https://localhost:8080/"
        },
        "id": "WJ7lpTAQdYQF",
        "outputId": "bea0a2a1-3ac1-472f-b631-66aacfc80bba"
      },
      "execution_count": 3,
      "outputs": [
        {
          "output_type": "stream",
          "name": "stderr",
          "text": [
            "── \u001b[1mAttaching packages\u001b[22m ────────────────────────────────────── tidymodels 1.2.0 ──\n",
            "\n",
            "\u001b[32m✔\u001b[39m \u001b[34mbroom       \u001b[39m 1.0.7     \u001b[32m✔\u001b[39m \u001b[34mrecipes     \u001b[39m 1.1.0\n",
            "\u001b[32m✔\u001b[39m \u001b[34mdials       \u001b[39m 1.3.0     \u001b[32m✔\u001b[39m \u001b[34mrsample     \u001b[39m 1.2.1\n",
            "\u001b[32m✔\u001b[39m \u001b[34mdplyr       \u001b[39m 1.1.4     \u001b[32m✔\u001b[39m \u001b[34mtibble      \u001b[39m 3.2.1\n",
            "\u001b[32m✔\u001b[39m \u001b[34mggplot2     \u001b[39m 3.5.1     \u001b[32m✔\u001b[39m \u001b[34mtidyr       \u001b[39m 1.3.1\n",
            "\u001b[32m✔\u001b[39m \u001b[34minfer       \u001b[39m 1.0.7     \u001b[32m✔\u001b[39m \u001b[34mtune        \u001b[39m 1.2.1\n",
            "\u001b[32m✔\u001b[39m \u001b[34mmodeldata   \u001b[39m 1.4.0     \u001b[32m✔\u001b[39m \u001b[34mworkflows   \u001b[39m 1.1.4\n",
            "\u001b[32m✔\u001b[39m \u001b[34mparsnip     \u001b[39m 1.2.1     \u001b[32m✔\u001b[39m \u001b[34mworkflowsets\u001b[39m 1.1.0\n",
            "\u001b[32m✔\u001b[39m \u001b[34mpurrr       \u001b[39m 1.0.2     \u001b[32m✔\u001b[39m \u001b[34myardstick   \u001b[39m 1.3.1\n",
            "\n",
            "── \u001b[1mConflicts\u001b[22m ───────────────────────────────────────── tidymodels_conflicts() ──\n",
            "\u001b[31m✖\u001b[39m \u001b[34mpurrr\u001b[39m::\u001b[32mdiscard()\u001b[39m masks \u001b[34mscales\u001b[39m::discard()\n",
            "\u001b[31m✖\u001b[39m \u001b[34mdplyr\u001b[39m::\u001b[32mfilter()\u001b[39m  masks \u001b[34mstats\u001b[39m::filter()\n",
            "\u001b[31m✖\u001b[39m \u001b[34mdplyr\u001b[39m::\u001b[32mlag()\u001b[39m     masks \u001b[34mstats\u001b[39m::lag()\n",
            "\u001b[31m✖\u001b[39m \u001b[34mrecipes\u001b[39m::\u001b[32mstep()\u001b[39m  masks \u001b[34mstats\u001b[39m::step()\n",
            "\u001b[34m•\u001b[39m Search for functions across packages at \u001b[32mhttps://www.tidymodels.org/find/\u001b[39m\n",
            "\n",
            "── \u001b[1mAttaching core tidyverse packages\u001b[22m ──────────────────────── tidyverse 2.0.0 ──\n",
            "\u001b[32m✔\u001b[39m \u001b[34mforcats  \u001b[39m 1.0.0     \u001b[32m✔\u001b[39m \u001b[34mreadr    \u001b[39m 2.1.5\n",
            "\u001b[32m✔\u001b[39m \u001b[34mlubridate\u001b[39m 1.9.3     \u001b[32m✔\u001b[39m \u001b[34mstringr  \u001b[39m 1.5.1\n",
            "── \u001b[1mConflicts\u001b[22m ────────────────────────────────────────── tidyverse_conflicts() ──\n",
            "\u001b[31m✖\u001b[39m \u001b[34mreadr\u001b[39m::\u001b[32mcol_factor()\u001b[39m masks \u001b[34mscales\u001b[39m::col_factor()\n",
            "\u001b[31m✖\u001b[39m \u001b[34mpurrr\u001b[39m::\u001b[32mdiscard()\u001b[39m    masks \u001b[34mscales\u001b[39m::discard()\n",
            "\u001b[31m✖\u001b[39m \u001b[34mdplyr\u001b[39m::\u001b[32mfilter()\u001b[39m     masks \u001b[34mstats\u001b[39m::filter()\n",
            "\u001b[31m✖\u001b[39m \u001b[34mstringr\u001b[39m::\u001b[32mfixed()\u001b[39m    masks \u001b[34mrecipes\u001b[39m::fixed()\n",
            "\u001b[31m✖\u001b[39m \u001b[34mdplyr\u001b[39m::\u001b[32mlag()\u001b[39m        masks \u001b[34mstats\u001b[39m::lag()\n",
            "\u001b[31m✖\u001b[39m \u001b[34mreadr\u001b[39m::\u001b[32mspec()\u001b[39m       masks \u001b[34myardstick\u001b[39m::spec()\n",
            "\u001b[36mℹ\u001b[39m Use the conflicted package (\u001b[3m\u001b[34m<http://conflicted.r-lib.org/>\u001b[39m\u001b[23m) to force all conflicts to become errors\n"
          ]
        }
      ]
    },
    {
      "cell_type": "markdown",
      "source": [
        "The `seoul_bike_sharing_converted_normalized.csv` will be our main dataset which has following variables:\n",
        "\n",
        "The response variable:\n",
        "- `RENTED BIKE COUNT`- Count of bikes rented at each hour\n",
        "\n",
        "Weather predictor variables:\n",
        "- `TEMPERATURE` - Temperature in Celsius\n",
        "- `HUMIDITY` - Unit is `%`\n",
        "- `WIND_SPEED` - Unit is `m/s`\n",
        "- `VISIBILITY` - Multiplied by 10m\n",
        "- `DEW_POINT_TEMPERATURE` - The temperature to which the air would have to cool down in order to reach saturation, unit is Celsius\n",
        "- `SOLAR_RADIATION` - MJ/m2\n",
        "- `RAINFALL` - mm\n",
        "- `SNOWFALL` - cm\n",
        "\n",
        "Date/time predictor variables:\n",
        "- `DATE` - Year-month-day\n",
        "- `HOUR`- Hour of he day\n",
        "- `FUNCTIONAL DAY` - NoFunc(Non Functional Hours), Fun(Functional hours)\n",
        "- `HOLIDAY` - Holiday/No holiday\n",
        "- `SEASONS` - Winter, Spring, Summer, Autumn\n"
      ],
      "metadata": {
        "id": "0-FKoDXHddfu"
      }
    },
    {
      "cell_type": "markdown",
      "source": [
        "Let's read the dataset as a dataframe first:\n"
      ],
      "metadata": {
        "id": "AP6MENbQdigp"
      }
    },
    {
      "cell_type": "code",
      "source": [
        "# Dataset URL\n",
        "dataset_url <- \"https://cf-courses-data.s3.us.cloud-object-storage.appdomain.cloud/IBMDeveloperSkillsNetwork-RP0321EN-SkillsNetwork/labs/datasets/seoul_bike_sharing_converted_normalized.csv\"\n",
        "bike_sharing_df <- read_csv(dataset_url)\n",
        "spec(bike_sharing_df)"
      ],
      "metadata": {
        "colab": {
          "base_uri": "https://localhost:8080/",
          "height": 902
        },
        "id": "-u8tWvKqders",
        "outputId": "6153bcd3-7fd2-4753-d195-80683a0476be"
      },
      "execution_count": 38,
      "outputs": [
        {
          "output_type": "stream",
          "name": "stderr",
          "text": [
            "\u001b[1mRows: \u001b[22m\u001b[34m8465\u001b[39m \u001b[1mColumns: \u001b[22m\u001b[34m41\u001b[39m\n",
            "\u001b[36m──\u001b[39m \u001b[1mColumn specification\u001b[22m \u001b[36m────────────────────────────────────────────────────────\u001b[39m\n",
            "\u001b[1mDelimiter:\u001b[22m \",\"\n",
            "\u001b[31mchr\u001b[39m  (2): DATE, FUNCTIONING_DAY\n",
            "\u001b[32mdbl\u001b[39m (39): RENTED_BIKE_COUNT, TEMPERATURE, HUMIDITY, WIND_SPEED, VISIBILITY, ...\n",
            "\n",
            "\u001b[36mℹ\u001b[39m Use `spec()` to retrieve the full column specification for this data.\n",
            "\u001b[36mℹ\u001b[39m Specify the column types or set `show_col_types = FALSE` to quiet this message.\n"
          ]
        },
        {
          "output_type": "display_data",
          "data": {
            "text/plain": [
              "cols(\n",
              "  DATE = \u001b[31mcol_character()\u001b[39m,\n",
              "  RENTED_BIKE_COUNT = \u001b[32mcol_double()\u001b[39m,\n",
              "  TEMPERATURE = \u001b[32mcol_double()\u001b[39m,\n",
              "  HUMIDITY = \u001b[32mcol_double()\u001b[39m,\n",
              "  WIND_SPEED = \u001b[32mcol_double()\u001b[39m,\n",
              "  VISIBILITY = \u001b[32mcol_double()\u001b[39m,\n",
              "  DEW_POINT_TEMPERATURE = \u001b[32mcol_double()\u001b[39m,\n",
              "  SOLAR_RADIATION = \u001b[32mcol_double()\u001b[39m,\n",
              "  RAINFALL = \u001b[32mcol_double()\u001b[39m,\n",
              "  SNOWFALL = \u001b[32mcol_double()\u001b[39m,\n",
              "  FUNCTIONING_DAY = \u001b[31mcol_character()\u001b[39m,\n",
              "  `0` = \u001b[32mcol_double()\u001b[39m,\n",
              "  `1` = \u001b[32mcol_double()\u001b[39m,\n",
              "  `10` = \u001b[32mcol_double()\u001b[39m,\n",
              "  `11` = \u001b[32mcol_double()\u001b[39m,\n",
              "  `12` = \u001b[32mcol_double()\u001b[39m,\n",
              "  `13` = \u001b[32mcol_double()\u001b[39m,\n",
              "  `14` = \u001b[32mcol_double()\u001b[39m,\n",
              "  `15` = \u001b[32mcol_double()\u001b[39m,\n",
              "  `16` = \u001b[32mcol_double()\u001b[39m,\n",
              "  `17` = \u001b[32mcol_double()\u001b[39m,\n",
              "  `18` = \u001b[32mcol_double()\u001b[39m,\n",
              "  `19` = \u001b[32mcol_double()\u001b[39m,\n",
              "  `2` = \u001b[32mcol_double()\u001b[39m,\n",
              "  `20` = \u001b[32mcol_double()\u001b[39m,\n",
              "  `21` = \u001b[32mcol_double()\u001b[39m,\n",
              "  `22` = \u001b[32mcol_double()\u001b[39m,\n",
              "  `23` = \u001b[32mcol_double()\u001b[39m,\n",
              "  `3` = \u001b[32mcol_double()\u001b[39m,\n",
              "  `4` = \u001b[32mcol_double()\u001b[39m,\n",
              "  `5` = \u001b[32mcol_double()\u001b[39m,\n",
              "  `6` = \u001b[32mcol_double()\u001b[39m,\n",
              "  `7` = \u001b[32mcol_double()\u001b[39m,\n",
              "  `8` = \u001b[32mcol_double()\u001b[39m,\n",
              "  `9` = \u001b[32mcol_double()\u001b[39m,\n",
              "  AUTUMN = \u001b[32mcol_double()\u001b[39m,\n",
              "  SPRING = \u001b[32mcol_double()\u001b[39m,\n",
              "  SUMMER = \u001b[32mcol_double()\u001b[39m,\n",
              "  WINTER = \u001b[32mcol_double()\u001b[39m,\n",
              "  HOLIDAY = \u001b[32mcol_double()\u001b[39m,\n",
              "  NO_HOLIDAY = \u001b[32mcol_double()\u001b[39m\n",
              ")"
            ]
          },
          "metadata": {}
        }
      ]
    },
    {
      "cell_type": "markdown",
      "source": [
        "We won't be using the `DATE` column, because 'as is', it basically acts like an data entry index. (However, given more time, we could use the `DATE` colum to create a 'day of week' or 'isWeekend' column, which we might expect has an affect on preferred bike rental times.) We also do not need the `FUNCTIONAL DAY` column because it only has one distinct value remaining (`YES`) after missing value processing.\n"
      ],
      "metadata": {
        "id": "ZBgO9VNldrGj"
      }
    },
    {
      "cell_type": "code",
      "source": [
        "bike_sharing_df <- bike_sharing_df %>%\n",
        "                   select(-DATE, -FUNCTIONING_DAY)"
      ],
      "metadata": {
        "id": "dbWwl8fidt78"
      },
      "execution_count": 39,
      "outputs": []
    },
    {
      "cell_type": "markdown",
      "source": [
        "# TASK: Split training and testing data\n"
      ],
      "metadata": {
        "id": "KUOE_pwcdv37"
      }
    },
    {
      "cell_type": "markdown",
      "source": [
        "First, we need to split the full dataset into training and testing datasets.\n",
        "\n",
        "The training dataset will be used for fitting regression models, and the testing dataset will be used to evaluate the trained models.\n"
      ],
      "metadata": {
        "id": "9GneJ9v1d0UL"
      }
    },
    {
      "cell_type": "markdown",
      "source": [
        "_TODO:_ Use the `initial_split()`, `training()`, and `testing()` functions to generate a training dataset consisting of 75% of the original dataset, and a testing dataset using the remaining 25%.\n"
      ],
      "metadata": {
        "id": "SFbGvw7Pd52F"
      }
    },
    {
      "cell_type": "code",
      "source": [
        "# Use the `initial_split()`, `training()`, and `testing()` functions to split the dataset\n",
        "# With seed 1234\n",
        "set.seed(1234)\n",
        "# prop = 3/4\n",
        "data_split <- initial_split(bike_sharing_df, prop = 3/4)\n",
        "# train_data\n",
        "train_data <- training(data_split)\n",
        "test_data <- testing(data_split)\n",
        "# test_data\n",
        "dim(train_data)  # Should be 75% of original rows\n",
        "dim(test_data)   # Should be 25% of original rows"
      ],
      "metadata": {
        "colab": {
          "base_uri": "https://localhost:8080/",
          "height": 52
        },
        "id": "XTaIiHNGesCk",
        "outputId": "78b33801-977f-4878-bd02-d12ded02e479"
      },
      "execution_count": 40,
      "outputs": [
        {
          "output_type": "display_data",
          "data": {
            "text/html": [
              "<style>\n",
              ".list-inline {list-style: none; margin:0; padding: 0}\n",
              ".list-inline>li {display: inline-block}\n",
              ".list-inline>li:not(:last-child)::after {content: \"\\00b7\"; padding: 0 .5ex}\n",
              "</style>\n",
              "<ol class=list-inline><li>6348</li><li>39</li></ol>\n"
            ],
            "text/markdown": "1. 6348\n2. 39\n\n\n",
            "text/latex": "\\begin{enumerate*}\n\\item 6348\n\\item 39\n\\end{enumerate*}\n",
            "text/plain": [
              "[1] 6348   39"
            ]
          },
          "metadata": {}
        },
        {
          "output_type": "display_data",
          "data": {
            "text/html": [
              "<style>\n",
              ".list-inline {list-style: none; margin:0; padding: 0}\n",
              ".list-inline>li {display: inline-block}\n",
              ".list-inline>li:not(:last-child)::after {content: \"\\00b7\"; padding: 0 .5ex}\n",
              "</style>\n",
              "<ol class=list-inline><li>2117</li><li>39</li></ol>\n"
            ],
            "text/markdown": "1. 2117\n2. 39\n\n\n",
            "text/latex": "\\begin{enumerate*}\n\\item 2117\n\\item 39\n\\end{enumerate*}\n",
            "text/plain": [
              "[1] 2117   39"
            ]
          },
          "metadata": {}
        }
      ]
    },
    {
      "cell_type": "markdown",
      "source": [
        "# TASK: Build a linear regression model using weather variables only\n"
      ],
      "metadata": {
        "id": "twIJ6dqjfKqW"
      }
    },
    {
      "cell_type": "markdown",
      "source": [
        "As you could imagine, weather conditions may affect people's bike renting decisions. For example, on a cold and rainy day, you may choose alternate transportation such as a bus or taxi.  While on a nice sunny day, you may want to rent a bike for a short-distance travel.\n"
      ],
      "metadata": {
        "id": "ShaHnToZfOo9"
      }
    },
    {
      "cell_type": "markdown",
      "source": [
        "Thus, can we predict a city's bike-sharing demand based on its local weather information? Let's try to build a regression model to do that.\n"
      ],
      "metadata": {
        "id": "e1lr2JIffRDt"
      }
    },
    {
      "cell_type": "markdown",
      "source": [
        "_TODO:_ Build a linear regression model called `lm_model_weather` using the following variables:\n",
        "\n",
        "- `TEMPERATURE` - Temperature in Celsius\n",
        "- `HUMIDITY` - Unit is `%`\n",
        "- `WIND_SPEED` - Unit is `m/s`\n",
        "- `VISIBILITY` - Multiplied by 10m\n",
        "- `DEW_POINT_TEMPERATURE` - The temperature to which the air would have to cool down in order to reach saturation, unit is Celsius\n",
        "- `SOLAR_RADIATION` - MJ/m2\n",
        "- `RAINFALL` - mm\n",
        "- `SNOWFALL` - cm\n"
      ],
      "metadata": {
        "id": "iXaBa55GfUDE"
      }
    },
    {
      "cell_type": "markdown",
      "source": [
        "Define a linear regression model specification.\n"
      ],
      "metadata": {
        "id": "3pfKVlpIfWxF"
      }
    },
    {
      "cell_type": "code",
      "source": [
        "# Define the linear regression model specification\n",
        "lm_model_weather <- linear_reg() %>%\n",
        "  set_engine(\"lm\") %>%   # Use 'lm' engine for linear regression\n",
        "  set_mode(\"regression\") # Specify regression mode"
      ],
      "metadata": {
        "id": "6WhWQmf5fNGz"
      },
      "execution_count": 41,
      "outputs": []
    },
    {
      "cell_type": "markdown",
      "source": [
        "Fit a model with the response variable `RENTED_BIKE_COUNT` and predictor variables `TEMPERATURE + HUMIDITY + WIND_SPEED + VISIBILITY + DEW_POINT_TEMPERATURE + SOLAR_RADIATION + RAINFALL + SNOWFALL`\n"
      ],
      "metadata": {
        "id": "BoxXCsy5frSs"
      }
    },
    {
      "cell_type": "code",
      "source": [
        "# Fit the model called `lm_model_weather`\n",
        "# RENTED_BIKE_COUNT ~ TEMPERATURE + HUMIDITY + WIND_SPEED + VISIBILITY + DEW_POINT_TEMPERATURE + SOLAR_RADIATION + RAINFALL + SNOWFALL,  with the training data\n",
        "lm_fit_weather <- lm_model_weather %>%\n",
        "  fit(RENTED_BIKE_COUNT ~ TEMPERATURE + HUMIDITY + WIND_SPEED +\n",
        "       VISIBILITY + DEW_POINT_TEMPERATURE + SOLAR_RADIATION +\n",
        "       RAINFALL + SNOWFALL, data = train_data)"
      ],
      "metadata": {
        "id": "RczYMtCGflF7"
      },
      "execution_count": 56,
      "outputs": []
    },
    {
      "cell_type": "markdown",
      "source": [
        "Print the fit summary for the `lm_model_weather` model."
      ],
      "metadata": {
        "id": "nmHpR94lgPDy"
      }
    },
    {
      "cell_type": "code",
      "source": [
        "# print(lm_model_weather$fit)\n",
        "# Print the summary of the model\n",
        "summary(lm_fit_weather$fit)"
      ],
      "metadata": {
        "colab": {
          "base_uri": "https://localhost:8080/",
          "height": 486
        },
        "id": "G0dDIHZRgC_E",
        "outputId": "87527035-a184-4957-af78-48b6a3d732fc"
      },
      "execution_count": 57,
      "outputs": [
        {
          "output_type": "display_data",
          "data": {
            "text/plain": [
              "\n",
              "Call:\n",
              "stats::lm(formula = RENTED_BIKE_COUNT ~ TEMPERATURE + HUMIDITY + \n",
              "    WIND_SPEED + VISIBILITY + DEW_POINT_TEMPERATURE + SOLAR_RADIATION + \n",
              "    RAINFALL + SNOWFALL, data = data)\n",
              "\n",
              "Residuals:\n",
              "     Min       1Q   Median       3Q      Max \n",
              "-1348.46  -294.03   -57.28   208.59  2329.78 \n",
              "\n",
              "Coefficients:\n",
              "                      Estimate Std. Error t value Pr(>|t|)    \n",
              "(Intercept)             156.71      58.07   2.699  0.00698 ** \n",
              "TEMPERATURE            2399.74     261.66   9.171  < 2e-16 ***\n",
              "HUMIDITY               -918.38     126.79  -7.243  4.9e-13 ***\n",
              "WIND_SPEED              404.47      48.16   8.399  < 2e-16 ***\n",
              "VISIBILITY               12.56      24.86   0.505  0.61351    \n",
              "DEW_POINT_TEMPERATURE  -316.92     278.83  -1.137  0.25575    \n",
              "SOLAR_RADIATION        -444.85      34.69 -12.824  < 2e-16 ***\n",
              "RAINFALL              -1764.01     182.65  -9.658  < 2e-16 ***\n",
              "SNOWFALL                317.78     131.58   2.415  0.01576 *  \n",
              "---\n",
              "Signif. codes:  0 ‘***’ 0.001 ‘**’ 0.01 ‘*’ 0.05 ‘.’ 0.1 ‘ ’ 1\n",
              "\n",
              "Residual standard error: 487.3 on 6339 degrees of freedom\n",
              "Multiple R-squared:  0.4303,\tAdjusted R-squared:  0.4296 \n",
              "F-statistic: 598.5 on 8 and 6339 DF,  p-value: < 2.2e-16\n"
            ]
          },
          "metadata": {}
        }
      ]
    },
    {
      "cell_type": "markdown",
      "source": [
        "You should see the model details such as formula, residuals, and coefficients.\n"
      ],
      "metadata": {
        "id": "IE0W6UQwg7YI"
      }
    },
    {
      "cell_type": "markdown",
      "source": [
        "# TASK: Build a linear regression model using all variables\n"
      ],
      "metadata": {
        "id": "VA0g_T9GhVRc"
      }
    },
    {
      "cell_type": "markdown",
      "source": [
        "In addition to weather, there could be other factors that may affect bike rental demand, such as the time of a day or if today is a holiday or not.\n"
      ],
      "metadata": {
        "id": "3gMrhi6ZhbDy"
      }
    },
    {
      "cell_type": "markdown",
      "source": [
        "Next, let's build a linear regression model using all variables (weather + date/time) in this task.\n"
      ],
      "metadata": {
        "id": "R50JiJouhhp8"
      }
    },
    {
      "cell_type": "markdown",
      "source": [
        "_TODO:_ Build a linear regression model called `lm_model_all` using all variables `RENTED_BIKE_COUNT ~ .`\n"
      ],
      "metadata": {
        "id": "Wpv_Rk84hjZk"
      }
    },
    {
      "cell_type": "code",
      "source": [
        "# Fit the model called `lm_model_all`\n",
        "lm_fit_all <- lm_model_all %>%\n",
        "  fit(RENTED_BIKE_COUNT ~ ., data = train_data)\n",
        "# `RENTED_BIKE_COUNT ~ .` means use all other variables except for the response variable\n",
        "lm_fit_all <- lm_model_all %>%\n",
        "  fit(RENTED_BIKE_COUNT ~ ., data = train_data)"
      ],
      "metadata": {
        "id": "qVSp-YP0gSJ7"
      },
      "execution_count": 44,
      "outputs": []
    },
    {
      "cell_type": "markdown",
      "source": [
        "Print the fit summary for `lm_model_all`.\n"
      ],
      "metadata": {
        "id": "Ng72vDZbiCIi"
      }
    },
    {
      "cell_type": "code",
      "source": [
        "# summary(lm_model_all$fit)\n",
        "summary(lm_fit_all$fit)"
      ],
      "metadata": {
        "colab": {
          "base_uri": "https://localhost:8080/",
          "height": 972
        },
        "id": "CC-_LcWGh_6D",
        "outputId": "1a71db91-99d6-44f8-eb20-b9ae0cba92a9"
      },
      "execution_count": 58,
      "outputs": [
        {
          "output_type": "display_data",
          "data": {
            "text/plain": [
              "\n",
              "Call:\n",
              "stats::lm(formula = RENTED_BIKE_COUNT ~ ., data = data)\n",
              "\n",
              "Residuals:\n",
              "     Min       1Q   Median       3Q      Max \n",
              "-1401.45  -218.96    -7.31   199.53  1780.67 \n",
              "\n",
              "Coefficients: (3 not defined because of singularities)\n",
              "                      Estimate Std. Error t value Pr(>|t|)    \n",
              "(Intercept)             212.20      51.04   4.158 3.26e-05 ***\n",
              "TEMPERATURE             782.66     212.13   3.690 0.000227 ***\n",
              "HUMIDITY               -886.73      99.49  -8.913  < 2e-16 ***\n",
              "WIND_SPEED               31.91      40.27   0.792 0.428169    \n",
              "VISIBILITY               21.87      20.26   1.079 0.280439    \n",
              "DEW_POINT_TEMPERATURE   598.39     221.37   2.703 0.006888 ** \n",
              "SOLAR_RADIATION         276.88      41.47   6.677 2.64e-11 ***\n",
              "RAINFALL              -2064.64     143.28 -14.410  < 2e-16 ***\n",
              "SNOWFALL                260.97     103.50   2.522 0.011709 *  \n",
              "`0`                     -29.30      34.26  -0.855 0.392515    \n",
              "`1`                    -116.85      33.72  -3.465 0.000533 ***\n",
              "`10`                   -237.52      32.74  -7.255 4.48e-13 ***\n",
              "`11`                   -247.38      33.85  -7.309 3.02e-13 ***\n",
              "`12`                   -208.34      34.39  -6.059 1.45e-09 ***\n",
              "`13`                   -191.35      35.04  -5.461 4.90e-08 ***\n",
              "`14`                   -192.44      34.44  -5.588 2.39e-08 ***\n",
              "`15`                   -109.73      34.40  -3.190 0.001429 ** \n",
              "`16`                     23.13      34.00   0.680 0.496431    \n",
              "`17`                    305.55      34.15   8.946  < 2e-16 ***\n",
              "`18`                    794.80      34.02  23.364  < 2e-16 ***\n",
              "`19`                    522.99      34.25  15.268  < 2e-16 ***\n",
              "`2`                    -237.21      33.74  -7.030 2.28e-12 ***\n",
              "`20`                    432.00      34.13  12.657  < 2e-16 ***\n",
              "`21`                    446.58      34.09  13.100  < 2e-16 ***\n",
              "`22`                    342.64      33.85  10.123  < 2e-16 ***\n",
              "`23`                    103.81      33.85   3.066 0.002175 ** \n",
              "`3`                    -319.87      34.23  -9.346  < 2e-16 ***\n",
              "`4`                    -386.29      34.00 -11.361  < 2e-16 ***\n",
              "`5`                    -362.72      33.48 -10.834  < 2e-16 ***\n",
              "`6`                    -204.12      33.59  -6.076 1.30e-09 ***\n",
              "`7`                     106.76      33.58   3.179 0.001486 ** \n",
              "`8`                     450.98      32.62  13.823  < 2e-16 ***\n",
              "`9`                         NA         NA      NA       NA    \n",
              "AUTUMN                  359.00      20.29  17.694  < 2e-16 ***\n",
              "SPRING                  191.37      19.36   9.884  < 2e-16 ***\n",
              "SUMMER                  198.14      29.19   6.789 1.24e-11 ***\n",
              "WINTER                      NA         NA      NA       NA    \n",
              "HOLIDAY                -124.42      22.95  -5.422 6.11e-08 ***\n",
              "NO_HOLIDAY                  NA         NA      NA       NA    \n",
              "---\n",
              "Signif. codes:  0 ‘***’ 0.001 ‘**’ 0.01 ‘*’ 0.05 ‘.’ 0.1 ‘ ’ 1\n",
              "\n",
              "Residual standard error: 377.9 on 6312 degrees of freedom\n",
              "Multiple R-squared:  0.6589,\tAdjusted R-squared:  0.657 \n",
              "F-statistic: 348.4 on 35 and 6312 DF,  p-value: < 2.2e-16\n"
            ]
          },
          "metadata": {}
        }
      ]
    },
    {
      "cell_type": "markdown",
      "source": [
        "Now you have built two basic linear regression models with different predictor variables, let's evaluate which model has better performance, you need to compare their performance to see which one is better."
      ],
      "metadata": {
        "id": "Q85AS-XoiPOs"
      }
    },
    {
      "cell_type": "markdown",
      "source": [
        "# TASK: Model evaluation and identification of important variables\n"
      ],
      "metadata": {
        "id": "aHJ4itTkiRmL"
      }
    },
    {
      "cell_type": "markdown",
      "source": [
        "Now that you have built two regression models, `lm_model_weather` and `lm_model_all`, with different predictor variables, you need to compare their performance to see which one is better.\n"
      ],
      "metadata": {
        "id": "CFYxwRWPiTOG"
      }
    },
    {
      "cell_type": "markdown",
      "source": [
        "In this project, you will be asked to use very important metrics that are often used in Statistics to determine the performance of a model:\n",
        "\n",
        "1.  R^2 / R-squared\n",
        "2.  Root Mean Squared Error (RMSE)\n",
        "\n",
        "**R-squared**\n",
        "\n",
        "<p>R squared, also known as the coefficient of determination, is a measure to indicate how close the data is to the fitted regression line. The value of R-squared is the percentage of variation of the response variable (y) that is explained by a linear model.</p>\n",
        "\n",
        "**Root Mean Squared Error (RMSE)**\n",
        "$$\n",
        "RMSE = \\sqrt{MSE}\n",
        "$$\n",
        "\n",
        "As you know, the Mean Squared Error measures the average of the squares of errors, where 'error' is the difference between the actual value ($y$) and the estimated value ($ŷ$).\n",
        "Another metric that is related to MSE is **Root Mean Squared Error (RMSE)** and is simply the square root of MSE.\n"
      ],
      "metadata": {
        "id": "2euvBy9-iYB0"
      }
    },
    {
      "cell_type": "markdown",
      "source": [
        "We first need to test the `lm_model_weather` and `lm_model_all` models against the test dataset `test_data`, and generate `RENTED_BIKE_COUNT` prediction results.\n"
      ],
      "metadata": {
        "id": "NTwzBMeUiiVG"
      }
    },
    {
      "cell_type": "markdown",
      "source": [
        "_TODO:_ Make predictions on the testing dataset using both `lm_model_weather` and `lm_model_all` models\n"
      ],
      "metadata": {
        "id": "hDx3dh3IijZY"
      }
    },
    {
      "cell_type": "code",
      "source": [
        "# Use predict() function to generate test results for `lm_model_weather` and `lm_model_all`\n",
        "# and generate two test results dataframe with a truth column:\n",
        "\n",
        "# test_results_weather for lm_model_weather model\n",
        "test_results_weather <- predict(lm_fit_weather, new_data = test_data) %>%\n",
        "  tibble(truth = test_data$RENTED_BIKE_COUNT, prediction = .)\n",
        "\n",
        "# test_results_all for lm_model_all\n",
        "test_results_all <- predict(lm_fit_all, new_data = test_data) %>%\n",
        "  tibble(truth = test_data$RENTED_BIKE_COUNT, prediction = .)"
      ],
      "metadata": {
        "colab": {
          "base_uri": "https://localhost:8080/"
        },
        "id": "AvOZ7rVWqDHm",
        "outputId": "21cd3904-d7f3-4c85-c609-8fa6b06d6f71"
      },
      "execution_count": 59,
      "outputs": [
        {
          "output_type": "stream",
          "name": "stderr",
          "text": [
            "Warning message in predict.lm(object = object$fit, newdata = new_data, type = \"response\", :\n",
            "“prediction from rank-deficient fit; consider predict(., rankdeficient=\"NA\")”\n"
          ]
        }
      ]
    },
    {
      "cell_type": "markdown",
      "source": [
        "NOTE: if you happen to see a warning like : `prediction from a rank-deficient fit may be misleading`, it may be casued by collinearity in the predictor variables. Collinearity means that one predictor variable can be predicted from other predictor variables to some degree. For example, `RAINFALL` could be predicted by `HUMIDITY`.\n",
        "\n",
        "But dont worry, you will address `glmnet` models (Lasso and Elastic-Net Regularized Generalized Linear Models) instead of regular `regression` models to solve this issue and futher improve the model performance."
      ],
      "metadata": {
        "id": "PfNc5JpItigp"
      }
    },
    {
      "cell_type": "code",
      "source": [
        "# Make predictions using lm_model_weather\n",
        "predictions_weather <- predict(lm_fit_weather, new_data = test_data)\n",
        "\n",
        "# Create test results dataframe for lm_model_weather\n",
        "test_results_weather <- test_data %>%\n",
        "  select(RENTED_BIKE_COUNT) %>%\n",
        "  bind_cols(predictions_weather)\n",
        "\n",
        "# Make predictions using lm_model_all\n",
        "predictions_all <- predict(lm_fit_all, new_data = test_data)\n",
        "\n",
        "# Create test results dataframe for lm_model_all\n",
        "test_results_all <- test_data %>%\n",
        "  select(RENTED_BIKE_COUNT) %>%\n",
        "  bind_cols(predictions_all)\n",
        "\n",
        "# Rename the prediction columns for clarity\n",
        "test_results_weather <- test_results_weather %>%\n",
        "  rename(pred = .pred)\n",
        "\n",
        "test_results_all <- test_results_all %>%\n",
        "  rename(pred = .pred)"
      ],
      "metadata": {
        "colab": {
          "base_uri": "https://localhost:8080/"
        },
        "id": "3NBIoTUtuMpI",
        "outputId": "aba622ad-ad9d-45c3-b405-5ff16d5f95c0"
      },
      "execution_count": 66,
      "outputs": [
        {
          "output_type": "stream",
          "name": "stderr",
          "text": [
            "Warning message in predict.lm(object = object$fit, newdata = new_data, type = \"response\", :\n",
            "“prediction from rank-deficient fit; consider predict(., rankdeficient=\"NA\")”\n"
          ]
        }
      ]
    },
    {
      "cell_type": "markdown",
      "source": [
        "NOTE: if you happen to see a warning like : `prediction from a rank-deficient fit may be misleading`, it may be casued by collinearity in the predictor variables. Collinearity means that one predictor variable can be predicted from other predictor variables to some degree. For example, `RAINFALL` could be predicted by `HUMIDITY`.\n",
        "\n",
        "But dont worry, you will address `glmnet` models (Lasso and Elastic-Net Regularized Generalized Linear Models) instead of regular `regression` models to solve this issue and futher improve the model performance."
      ],
      "metadata": {
        "id": "pCe9n4xD2FHA"
      }
    },
    {
      "cell_type": "markdown",
      "source": [
        "Next, let's calculate and print the R-squared and RMSE for the two test results"
      ],
      "metadata": {
        "id": "vnZat4sU2KlV"
      }
    },
    {
      "cell_type": "markdown",
      "source": [
        "_TODO:_ Use `rsq()` and `rmse()` functions to calculate R-squared and RMSE metrics for the two test results"
      ],
      "metadata": {
        "id": "1RySPjmT2TVF"
      }
    },
    {
      "cell_type": "code",
      "source": [
        "# Calculate R-squared for lm_model_weather\n",
        "rsq_weather <- rsq(test_results_weather, truth = RENTED_BIKE_COUNT, estimate = pred)\n",
        "\n",
        "# Calculate R-squared for lm_model_all\n",
        "rsq_all <- rsq(test_results_all, truth = RENTED_BIKE_COUNT, estimate = pred)\n",
        "\n",
        "# Calculate RMSE for lm_model_weather\n",
        "rmse_weather <- rmse(test_results_weather, truth = RENTED_BIKE_COUNT, estimate = pred)\n",
        "\n",
        "# Calculate RMSE for lm_model_all\n",
        "rmse_all <- rmse(test_results_all, truth = RENTED_BIKE_COUNT, estimate = pred)\n",
        "\n",
        "# Print the results\n",
        "cat(\"R-squared for weather model:\", rsq_weather$.estimate, \"\\n\")\n",
        "cat(\"R-squared for all variables model:\", rsq_all$.estimate, \"\\n\")\n",
        "cat(\"RMSE for weather model:\", rmse_weather$.estimate, \"\\n\")\n",
        "cat(\"RMSE for all variables model:\", rmse_all$.estimate, \"\\n\")"
      ],
      "metadata": {
        "colab": {
          "base_uri": "https://localhost:8080/"
        },
        "id": "8c6i8JqTzZbt",
        "outputId": "7c3bfbde-e033-4ae5-ed48-699bb8f62352"
      },
      "execution_count": 68,
      "outputs": [
        {
          "output_type": "stream",
          "name": "stdout",
          "text": [
            "R-squared for weather model: 0.438866 \n",
            "R-squared for all variables model: 0.6690204 \n",
            "RMSE for weather model: 474.6247 \n",
            "RMSE for all variables model: 364.4235 \n"
          ]
        }
      ]
    },
    {
      "cell_type": "markdown",
      "source": [
        "From these tables, you should find that the test results from `lm_model_all` are much better. It means that using both weather and datetime variables in the model generates better prediction results."
      ],
      "metadata": {
        "id": "a-2Q_zhI2x2v"
      }
    },
    {
      "cell_type": "markdown",
      "source": [
        "Since `lm_model_all` has many predictor variables, let's check which predictor variables have larger coefficients. Variables with larger coefficients in the model means they attribute more in the prediction of `RENTED_BIKE_COUNT`. In addition, since all predictor variables are normalized to the same scale, 0 to 1, we thus can compare their coefficients directly."
      ],
      "metadata": {
        "id": "VWyT_ZXd20YL"
      }
    },
    {
      "cell_type": "markdown",
      "source": [
        "You could try building another regression model using the non-normalized `seoul_bike_sharing_converted.csv` dataset, and you would find that the coefficients are much different."
      ],
      "metadata": {
        "id": "ePR8FK6q23kG"
      }
    },
    {
      "cell_type": "markdown",
      "source": [
        "First let's print all coefficients:"
      ],
      "metadata": {
        "id": "f-Xoc6ok27PU"
      }
    },
    {
      "cell_type": "code",
      "source": [
        "# Get the coefficients of the lm_model_all\n",
        "coef_all <- tidy(lm_fit_all)\n",
        "\n",
        "# Print all coefficients without sorting\n",
        "print(\"All coefficients:\")\n",
        "print(coef_all, n = Inf)  # This will print all rows"
      ],
      "metadata": {
        "colab": {
          "base_uri": "https://localhost:8080/"
        },
        "id": "oeeCqv8u2rij",
        "outputId": "d689d396-d6a5-4778-a6cb-7f6a611ed7d4"
      },
      "execution_count": 80,
      "outputs": [
        {
          "output_type": "stream",
          "name": "stdout",
          "text": [
            "[1] \"All coefficients:\"\n",
            "\u001b[90m# A tibble: 39 × 5\u001b[39m\n",
            "   term                  estimate std.error statistic    p.value\n",
            "   \u001b[3m\u001b[90m<chr>\u001b[39m\u001b[23m                    \u001b[3m\u001b[90m<dbl>\u001b[39m\u001b[23m     \u001b[3m\u001b[90m<dbl>\u001b[39m\u001b[23m     \u001b[3m\u001b[90m<dbl>\u001b[39m\u001b[23m      \u001b[3m\u001b[90m<dbl>\u001b[39m\u001b[23m\n",
            "\u001b[90m 1\u001b[39m (Intercept)              212.       51.0     4.16   3.26\u001b[90me\u001b[39m\u001b[31m-  5\u001b[39m\n",
            "\u001b[90m 2\u001b[39m TEMPERATURE              783.      212.      3.69   2.27\u001b[90me\u001b[39m\u001b[31m-  4\u001b[39m\n",
            "\u001b[90m 3\u001b[39m HUMIDITY                -\u001b[31m887\u001b[39m\u001b[31m.\u001b[39m       99.5    -\u001b[31m8\u001b[39m\u001b[31m.\u001b[39m\u001b[31m91\u001b[39m   6.43\u001b[90me\u001b[39m\u001b[31m- 19\u001b[39m\n",
            "\u001b[90m 4\u001b[39m WIND_SPEED                31.9      40.3     0.792  4.28\u001b[90me\u001b[39m\u001b[31m-  1\u001b[39m\n",
            "\u001b[90m 5\u001b[39m VISIBILITY                21.9      20.3     1.08   2.80\u001b[90me\u001b[39m\u001b[31m-  1\u001b[39m\n",
            "\u001b[90m 6\u001b[39m DEW_POINT_TEMPERATURE    598.      221.      2.70   6.89\u001b[90me\u001b[39m\u001b[31m-  3\u001b[39m\n",
            "\u001b[90m 7\u001b[39m SOLAR_RADIATION          277.       41.5     6.68   2.64\u001b[90me\u001b[39m\u001b[31m- 11\u001b[39m\n",
            "\u001b[90m 8\u001b[39m RAINFALL               -\u001b[31m\u001b[4m2\u001b[24m06\u001b[39m\u001b[31m5\u001b[39m\u001b[31m.\u001b[39m      143.    -\u001b[31m14\u001b[39m\u001b[31m.\u001b[39m\u001b[31m4\u001b[39m    2.41\u001b[90me\u001b[39m\u001b[31m- 46\u001b[39m\n",
            "\u001b[90m 9\u001b[39m SNOWFALL                 261.      103.      2.52   1.17\u001b[90me\u001b[39m\u001b[31m-  2\u001b[39m\n",
            "\u001b[90m10\u001b[39m `0`                      -\u001b[31m29\u001b[39m\u001b[31m.\u001b[39m\u001b[31m3\u001b[39m      34.3    -\u001b[31m0\u001b[39m\u001b[31m.\u001b[39m\u001b[31m855\u001b[39m  3.93\u001b[90me\u001b[39m\u001b[31m-  1\u001b[39m\n",
            "\u001b[90m11\u001b[39m `1`                     -\u001b[31m117\u001b[39m\u001b[31m.\u001b[39m       33.7    -\u001b[31m3\u001b[39m\u001b[31m.\u001b[39m\u001b[31m47\u001b[39m   5.33\u001b[90me\u001b[39m\u001b[31m-  4\u001b[39m\n",
            "\u001b[90m12\u001b[39m `10`                    -\u001b[31m238\u001b[39m\u001b[31m.\u001b[39m       32.7    -\u001b[31m7\u001b[39m\u001b[31m.\u001b[39m\u001b[31m26\u001b[39m   4.48\u001b[90me\u001b[39m\u001b[31m- 13\u001b[39m\n",
            "\u001b[90m13\u001b[39m `11`                    -\u001b[31m247\u001b[39m\u001b[31m.\u001b[39m       33.8    -\u001b[31m7\u001b[39m\u001b[31m.\u001b[39m\u001b[31m31\u001b[39m   3.02\u001b[90me\u001b[39m\u001b[31m- 13\u001b[39m\n",
            "\u001b[90m14\u001b[39m `12`                    -\u001b[31m208\u001b[39m\u001b[31m.\u001b[39m       34.4    -\u001b[31m6\u001b[39m\u001b[31m.\u001b[39m\u001b[31m0\u001b[39m\u001b[31m6\u001b[39m   1.45\u001b[90me\u001b[39m\u001b[31m-  9\u001b[39m\n",
            "\u001b[90m15\u001b[39m `13`                    -\u001b[31m191\u001b[39m\u001b[31m.\u001b[39m       35.0    -\u001b[31m5\u001b[39m\u001b[31m.\u001b[39m\u001b[31m46\u001b[39m   4.90\u001b[90me\u001b[39m\u001b[31m-  8\u001b[39m\n",
            "\u001b[90m16\u001b[39m `14`                    -\u001b[31m192\u001b[39m\u001b[31m.\u001b[39m       34.4    -\u001b[31m5\u001b[39m\u001b[31m.\u001b[39m\u001b[31m59\u001b[39m   2.39\u001b[90me\u001b[39m\u001b[31m-  8\u001b[39m\n",
            "\u001b[90m17\u001b[39m `15`                    -\u001b[31m110\u001b[39m\u001b[31m.\u001b[39m       34.4    -\u001b[31m3\u001b[39m\u001b[31m.\u001b[39m\u001b[31m19\u001b[39m   1.43\u001b[90me\u001b[39m\u001b[31m-  3\u001b[39m\n",
            "\u001b[90m18\u001b[39m `16`                      23.1      34.0     0.680  4.96\u001b[90me\u001b[39m\u001b[31m-  1\u001b[39m\n",
            "\u001b[90m19\u001b[39m `17`                     306.       34.2     8.95   4.75\u001b[90me\u001b[39m\u001b[31m- 19\u001b[39m\n",
            "\u001b[90m20\u001b[39m `18`                     795.       34.0    23.4    7.32\u001b[90me\u001b[39m\u001b[31m-116\u001b[39m\n",
            "\u001b[90m21\u001b[39m `19`                     523.       34.3    15.3    1.05\u001b[90me\u001b[39m\u001b[31m- 51\u001b[39m\n",
            "\u001b[90m22\u001b[39m `2`                     -\u001b[31m237\u001b[39m\u001b[31m.\u001b[39m       33.7    -\u001b[31m7\u001b[39m\u001b[31m.\u001b[39m\u001b[31m0\u001b[39m\u001b[31m3\u001b[39m   2.28\u001b[90me\u001b[39m\u001b[31m- 12\u001b[39m\n",
            "\u001b[90m23\u001b[39m `20`                     432.       34.1    12.7    2.82\u001b[90me\u001b[39m\u001b[31m- 36\u001b[39m\n",
            "\u001b[90m24\u001b[39m `21`                     447.       34.1    13.1    1.05\u001b[90me\u001b[39m\u001b[31m- 38\u001b[39m\n",
            "\u001b[90m25\u001b[39m `22`                     343.       33.8    10.1    6.66\u001b[90me\u001b[39m\u001b[31m- 24\u001b[39m\n",
            "\u001b[90m26\u001b[39m `23`                     104.       33.9     3.07   2.18\u001b[90me\u001b[39m\u001b[31m-  3\u001b[39m\n",
            "\u001b[90m27\u001b[39m `3`                     -\u001b[31m320\u001b[39m\u001b[31m.\u001b[39m       34.2    -\u001b[31m9\u001b[39m\u001b[31m.\u001b[39m\u001b[31m35\u001b[39m   1.24\u001b[90me\u001b[39m\u001b[31m- 20\u001b[39m\n",
            "\u001b[90m28\u001b[39m `4`                     -\u001b[31m386\u001b[39m\u001b[31m.\u001b[39m       34.0   -\u001b[31m11\u001b[39m\u001b[31m.\u001b[39m\u001b[31m4\u001b[39m    1.27\u001b[90me\u001b[39m\u001b[31m- 29\u001b[39m\n",
            "\u001b[90m29\u001b[39m `5`                     -\u001b[31m363\u001b[39m\u001b[31m.\u001b[39m       33.5   -\u001b[31m10\u001b[39m\u001b[31m.\u001b[39m\u001b[31m8\u001b[39m    4.12\u001b[90me\u001b[39m\u001b[31m- 27\u001b[39m\n",
            "\u001b[90m30\u001b[39m `6`                     -\u001b[31m204\u001b[39m\u001b[31m.\u001b[39m       33.6    -\u001b[31m6\u001b[39m\u001b[31m.\u001b[39m\u001b[31m0\u001b[39m\u001b[31m8\u001b[39m   1.30\u001b[90me\u001b[39m\u001b[31m-  9\u001b[39m\n",
            "\u001b[90m31\u001b[39m `7`                      107.       33.6     3.18   1.49\u001b[90me\u001b[39m\u001b[31m-  3\u001b[39m\n",
            "\u001b[90m32\u001b[39m `8`                      451.       32.6    13.8    7.72\u001b[90me\u001b[39m\u001b[31m- 43\u001b[39m\n",
            "\u001b[90m33\u001b[39m `9`                       \u001b[31mNA\u001b[39m        \u001b[31mNA\u001b[39m      \u001b[31mNA\u001b[39m     \u001b[31mNA\u001b[39m   \u001b[90m \u001b[39m    \n",
            "\u001b[90m34\u001b[39m AUTUMN                   359.       20.3    17.7    2.06\u001b[90me\u001b[39m\u001b[31m- 68\u001b[39m\n",
            "\u001b[90m35\u001b[39m SPRING                   191.       19.4     9.88   7.18\u001b[90me\u001b[39m\u001b[31m- 23\u001b[39m\n",
            "\u001b[90m36\u001b[39m SUMMER                   198.       29.2     6.79   1.24\u001b[90me\u001b[39m\u001b[31m- 11\u001b[39m\n",
            "\u001b[90m37\u001b[39m WINTER                    \u001b[31mNA\u001b[39m        \u001b[31mNA\u001b[39m      \u001b[31mNA\u001b[39m     \u001b[31mNA\u001b[39m   \u001b[90m \u001b[39m    \n",
            "\u001b[90m38\u001b[39m HOLIDAY                 -\u001b[31m124\u001b[39m\u001b[31m.\u001b[39m       22.9    -\u001b[31m5\u001b[39m\u001b[31m.\u001b[39m\u001b[31m42\u001b[39m   6.11\u001b[90me\u001b[39m\u001b[31m-  8\u001b[39m\n",
            "\u001b[90m39\u001b[39m NO_HOLIDAY                \u001b[31mNA\u001b[39m        \u001b[31mNA\u001b[39m      \u001b[31mNA\u001b[39m     \u001b[31mNA\u001b[39m   \u001b[90m \u001b[39m    \n"
          ]
        }
      ]
    },
    {
      "cell_type": "markdown",
      "source": [
        "hmm, it's not very clear to compare the coefficients from a long and unsorted list. Next, you need to sort and visualize them using a bar chart"
      ],
      "metadata": {
        "id": "GskAyXY05LPn"
      }
    },
    {
      "cell_type": "markdown",
      "source": [
        "_TODO:_ Sort the coefficient list in descending order and visualize the result using `ggplot` and `geom_bar`\n"
      ],
      "metadata": {
        "id": "m77SND5q5O6P"
      }
    },
    {
      "cell_type": "code",
      "source": [
        "# Get the coefficients of the lm_model_all\n",
        "coef_all <- tidy(lm_fit_all)\n",
        "\n",
        "# Sort the coefficients in descending order by estimate\n",
        "coef_sorted <- coef_all[order(coef_all$estimate, decreasing = TRUE), ]\n",
        "\n",
        "# Visualize the sorted coefficients using ggplot2\n",
        "ggplot(coef_sorted, aes(x = reorder(term, estimate), y = estimate)) +\n",
        "  geom_bar(stat = \"identity\", fill = \"steelblue\") +\n",
        "  coord_flip() +  # Flip coordinates for better readability\n",
        "  labs(title = \"Sorted Coefficients of the Linear Model\",\n",
        "       x = \"Variables\",\n",
        "       y = \"Coefficient (Coef)\") +\n",
        "  theme_minimal()"
      ],
      "metadata": {
        "colab": {
          "base_uri": "https://localhost:8080/",
          "height": 489
        },
        "id": "Z0yvBWT13JrG",
        "outputId": "5bc87c25-9bc4-47d0-c804-ec0eea6c9261"
      },
      "execution_count": 79,
      "outputs": [
        {
          "output_type": "stream",
          "name": "stderr",
          "text": [
            "Warning message:\n",
            "“\u001b[1m\u001b[22mRemoved 3 rows containing missing values or values outside the scale range\n",
            "(`geom_bar()`).”\n"
          ]
        },
        {
          "output_type": "display_data",
          "data": {
            "text/plain": [
              "plot without title"
            ],
            "image/png": "[encoded data removed]"
          },
          "metadata": {
            "image/png": {
              "width": 420,
              "height": 420
            }
          }
        }
      ]
    },
    {
      "cell_type": "markdown",
      "source": [
        "Mark down these 'top-ranked variables by coefficient', which will be used for model refinments in the next labs."
      ],
      "metadata": {
        "id": "kC_mBbRg7O5d"
      }
    },
    {
      "cell_type": "markdown",
      "source": [
        "Note that here the main reason we use absolute value is to easily identify important variables, i.e. variables with large magnitudes, no matter it's negative or positive. If we want to interprete the model then it's better to seperate the positive and negative coefficients."
      ],
      "metadata": {
        "id": "3MMwTKFW7cAz"
      }
    },
    {
      "cell_type": "markdown",
      "source": [
        "###Top-Ranked Variables by Coefficient\n",
        "![Screenshot 2024-10-18 004326.png](data:image/png;base64,iVBORw0KGgoAAAANSUhEUgAAAsgAAAGaCAYAAAASBbUXAAAAAXNSR0IArs4c6QAAAARnQU1BAACxjwv8YQUAAAAJcEhZcwAADsMAAA7DAcdvqGQAAEW4SURBVHhe7d0PdFRnXv/xB//8uqFsoAnduLiBsJJEK1oaAybaCG0RFItIaEm0/jkGChV0TdVQYlfUHs9JgapYWxSWZv2z1CQWECtV4taNoiYCRVR23WzU8MeyRkKKWSBdV+2vnyf3mTxzMzOZyYQwYd6vc+ZM5s7cO5NAvvcz3/u9k2nvvc8AAAAAsL4quAYAAADwPgIyAAAA4CEgAwAAAB4CMgAAAOAhIAMAAAAeAjIAAADgISADAAAAnpifg/zv//7vpr+/39y4ccPwMckAAAC4k02bNs3cfffdZvbs2eYjH/lIdEB+9913zec//3n7dW5urrnrrrvsCgCAW+Pf/u3fzEc/+tHgFgDgdvi///s/85WvfMW888475qu+6quiRywUjhWKP/ShD5kPfOADhGMAAADc8RSKlYG/7uu+znz1V3/1SEDWWIXMnDnTXgMAAADZJj8/fyQga+ZYYxUAAABANosEZJ2Qp9YyAAAAkM0iAVnn6jFzDAAAgGwXdZIeAAAAkO0IyAAAAICHgAwAAAB4CMgAAACAh4AMAAAAeMYdkL/whS+Y7//+7zctLS3BkhGf/vSnzcMPP2z+6Z/+KViSnJs3b5oXXnjBHD582H6qRiLXrl0zTz75pHnppZeCJaPpPj1GjwWAO83Vq1fNb//2b5vHHnvMfOM3fqNZsWKFrXv6c6npUg3+27/9W/OjP/qjdttvvfWWeffdd83v/u7v2udRbf3Xf/1X80u/9Evmr//6r4O1Ykultk8kPe9zzz1n/viP/zjqef/wD//Qfk979+4d9Xpu1X4jmX3WRNK/XWVlZcx/m9/5nd8xTzzxhHn77beDJaMdPXrUVFdX2z+Fno7/+Z//Mfv27TO//uu/br8GpopxB+SPfOQj5pu/+ZvN3//939vPUHZUmE+dOmUWL15sPvrRjwZLk6Pie/HiRTMwMGD/JjYAIDaF05/+6Z82x44dM9/93d9tmpubzU/+5E+anJwc87//+7/Bo8bv8uXL5uWXXzZFRUXmL/7iL8z9999vw5YC+YYNG8yv/uqv2j/N2t3dPWaYnOjafuXKFRvM33jjjWDJaAq+r7/+ug1ly5cvj3yMqfZXp0+fNo8//rgN/dpWptK+9Gd/9mfN+fPngyXJW7BggbnvvvvM3/3d30X9f/jSl75k99tlZWX2T+real/zNV9j1q1bZ/7lX/7FdHZ2BkuBzDfugDx9+nRTUVFh/vmf/znqXeh//ud/mnPnzpny8nJz9913B0uTk5eXZ1588UWzceNG+3ewAQCjXb9+3ezfv9/MnDnTfOITnzCbN2823/Ed32GP6im8fuADHwgeOX5f/vKXzdDQkPm2b/s2M2fOHBt0FC4//OEP2waI/vLq/PnzzR/8wR+YRx99NFgrtomu7Qp5//iP/5iwU67g++d//ufme77ne+z+ylFQ037qB37gB2xw1NHQTKU3Kb29veN6U3Hvvffaf7vPfe5z9kiDo7Ct/ba6y5O1n509e7ZZtmyZfUOjrj4wFaQ1g/wt3/Ittmj+wz/8Q7DE2F88FS91G1SEmpqa7OE4Hc762Mc+FnknrMM2Onxz4MAB8+yzz9pDTxcuXIg6BJVofUeF4/jx43ZbepwO/6lbEYu6HHv27LGP0+U3f/M3+WUFMOV8/vOft51BHSaP1wVU51S1sa6uztbP1atXj6qPX/ziF82OHTtMVVWVvV8jc1pPndVVq1bZcPXMM8/YuqwRCX2tZbpPddrVcR2OF3VtP/vZz5r6+nobwFRn/+qv/irmeEG853aPVa3WSIa2oedob2+32w+/tnhjAOpYKwCrk+q49UtKSsw3fdM3mdLSUnPixImYQbunp8fuc/R9/PzP/7x9vfLf//3f9k2BXrN+rlu3bo3cp2u3z9J6+jnodcai16H1de344x362v95q2Ouf7tk92PqmC9ZssQeadCbAkfPV1hYaI/w6mfq/n9oW/q+Yo1BhP+dJTyCofX+5E/+xNTW1ka+d39/rbCuZpr+XYCpIK2ArDELHaZRQdQvrhuv0OiF7uvr6zPFxcXm4MGD5tVXX7WBV7NPfoHWvPKP/diP2S6IuiG+ZNZX8dW77N/4jd+ws3I6/KedQpgKiB6jHYsOGz7//PPmb/7mb+wsWngGDQAymYKGurLxwrFqmrp16tquXLnSdlJVH1VLP/WpT9ngqA7rr/zKr9jHK5xqXOP3f//3zWc+8xnzrd/6raatrc0eov/lX/5lO07x1FNP2a+1TPcpWIUpfD399NOmoKDAhnFtX02UsETP7bz55pu2w6marjCr7anWh1/bJz/5STN37txgrRGXLl0y8+bNs51uR8+ruq/9lrrK6oSrwfMf//EfwSOGqVmj0ZWf+ImfsN+7QqDmaLXv0T5H+yuNsyhcf+d3fqfttrvvqb+/3+zevduOvOj1awZ6PCMS+vn6P++f+7mfs/9uqezHtP/Uz+vs2bP2fjdeoWUf/OAH7T62oaHBfh86CqD/L3psqtz/t9/6rd+yRwlee+01+3NXkB8cHLSPyc/Ptz9z/XyAqSCtgPz//t//swVGh7pUuBRgNV6h0Qv9IqjDrJNHdKhHBenBBx+0hd0PuDr8pXfzsSSz/qJFi2wXRe+I165da77ru77L/oKrYPl0GE2FRAVPRUPb03NrJsr9AgPAnUA1TYFFXUHVUNVHXau7pzliHXI/efKkvVbH8uu//uvN0qVLbY3VyV06Mjdjxgy7LY1rKOzothvd0Nf+2IKoQaIgrvD1Uz/1U7auq4Op0Y+wRM/tave3f/u3m+/93u+1nc41a9bY8K0g+7Vf+7VRr02NlVghXPsKHdr3x03USVVI1D5A1EGWM2fO2GtHbz40qqJgrtevcQx1chUofbNmzTI/+IM/aAO6vieFco276Aiq1lUXVbq6uux1KvTz9X/euqirncp+TP9u2kdqn/jOO+9ExisU6jUC+SM/8iP2dWofq4Cs8Rn93FLl/r9p1viRRx6x/6aa8dbPzHWY77rrLvuGzh/3ADJZWgFZ9O5WQVm/uJqV0jtc/dKKfhHUFVCxVHH2D68599xzT/DVaMmsrwKl5xe9W9cJKno3G343rY6ADu3U1NTYw0m66N23Xm+sd94AkKnUjdOhdoW9WHSfTojTCXZuzlSH3LWewoxmmFWvFZx0gp/qoRoS6tLGqp/J0FE61Vk9pwuw8SR6bidc29OlAP+Xf/mXtqGjkQU9r55fr0MB1h9TUHdVF0f7FY0QaH+hIK+jnuosf9/3fZ89uqn7FI7VOf/Qhz4UrDWynYnqmqa6H9O/uUYbNPqh16ejvVpH4VpvgjSmoy71j//4j9vvKd44yFi0r1aDbNeuXTZw6zkUkN2YCzAVpR2Q9Y5Q75ZVYFR8Fi5caIuEio1m1tRR1qEhjUbokFSykl1f3Qb3C6ivtVPQO9VwQdWhtm/4hm+wgVuv1V1U5PxDcACQ6dSd1QlyOpStsBumcKkuqDqGrj4qQCnIqKuq+7W+wpM+As2viaq3qqGpUrfTdSD9sBlLoud2oThd+j4VTN0RR3WfNU6hhovCuLvotkKzPxurMK1ZY3E/N4Vk/Vz0fSpM6rWry6xxC30qhrr06jArKDp6A6OL7gvTPkoNIp0IKXqesU7GG89+TB14XTS+otepjrIeq/V+4Rd+wR4F1vo6H0gNr1j0WtWld69V/NeqN156Y7Bt27ao16WLjiiI9s/6N0j15H3gdkk7IOtwl37B/uzP/sweXtN4hQqcCowO6ehjgPSLpQI01mdl+pJdv6Ojwxw5csS+O1ax0+N0uE6vy6dDYCosmnfTu2n9cqtYqnug5wCAqUJhRF1EdQA1q6rZYn39R3/0R3ZmVzVYJ0ppjlYhWvVRJ1Cp/unwuoKZzhVReD506JD5r//6r0iHVUHRfSRaKhQeNY6gw/06cUxjbRo70NhEWLrP7QKbjlyqiRIefRCdB6Pv24V1dUf1tbrGGt9wF41x6LUrzDn66DrNNms8QCeyaR+jcRE1hBQ09T0qePtdbjWKFDw1q6x9i75//VvoderNQJjGGhRctW19H9qH6t/Ip3V1NEAzx9qmnj/V/Zg62A888ID9v6H9o/bX+hlr/6rOt36WCq9/+qd/GreDrDdbevOjc4b0fPo3bW1tDe4dHgHRJ1fp9WsURq9Lr08/O/cGTW8y9PPXvwswFUxIMtQ7RM1y6dCae7eoQqEzXFVoNPemX8xYRSKeZNfXvJMOGf7QD/2QDcvqQKiQhekXvLGx0b573bRpkz00ph2H3vkCwFSjoKeToPQpDQpi6mrqBDwFIgUrzcaqO6oApscqROu2lisgqV7rUyQULlVjVW8VssMnS6dC9VhdSdVtfeTcr/3arwX3REv3uTXjqrlkfZKCDuu7bq9PXXZ9nwqXCmbaP7gTyH36CDvttzSHrLAuOhKqTqv2JzrxTn/4Sj9fhUmFaZ0op2aQQrQ+6UL7HG1X4w7ax+hop7rLeryWxQqFel5tU+MmepOj8Qn9O/n0JkeXn/mZn7EBWm9sxrMf02vVOgrKCuWi7WpcRJ+OoU+SUlc/XgdZ/6c0hqGfs07W1AmUmn129H3+8A//sP030f9JvVHS6Ib+H7pmlYKz/t1inVAJZKJp7wWDS+rOul8cAMDkUJeS2jvxtGtra2uzJ6Vt37496mQ9TC6NuvziL/6iPdkx/CYAyFTMFgAA7jjqHuuzijV64D5DGZNPYxwapdEctsYfgamCDjIA3EZ0kAEg89BBBgAAADwEZAAAAMBDQAYAAAA8BGQAAADAQ0AGAAAAPARkAAAAwENABgAAADwEZAAAAMAT9YdCAAAAgGwXCchf+MIXTElJiV0IAJgc1F4AyDyMWAAAAAAeAjIAAADgISADAAAAHgIyAAAA4CEgAwAAAB4CMgAAAOAhIAMAAAAeAjIAAADgISADAAAAHgIyAAAA4EkrIOtPpFZVVZnc3NzIpampKbg3Wmdnp32s1gnTOi0tLfbroaEhU19fb6qrq83AwIBd5mjdurq6yHKt5z+3Lnoex70+f5mjZXoePZ/PPX+sdQAgU6hmuroXq7b698eqdX799tdXfVX9devq4uozAGSLtDvIxcXF5vz582ZwcNBenzp1alQxVWE+duyYWbp0qTlz5kywNL4ZM2aY9957z7S3twdL4tu/f799bneprKwM7jHm0KFDZtWqVaajoyNYAgBTn0LszZs3I3Vv165dZvv27ZHmgd7gt7W1RWpzQUGB2bNnj71PdP+GDRvMK6+8Yu8/ceKEKSkpsff19/ebWbNmRdbVpba21t4HANliQkcs8vLyzPr1601vb2+wZNilS5fs9eOPP25Db7gzHHb9+nXz6KOPmtbW1lFdkWTpOfr6+sxjjz1menp6xr0dAMg0qrU6muYsWrTIzJ0713R3d9vbagqoFutxsm7dOlsHVRfVsFBtVah2oThszpw5JicnJ7gFANlnUmaQ1TVeuHChLcY6XOeKeCL33XefqampMXv37h11aDAZeg51TdTh1iWZzjUATEWqker05ufn2xCsMFxWVhbca0xhYWGk9qphoaN0CtWxXL161TYpACCbTWhAVpdWnQl1KxwV7nPnztlirY5ERUVF0iMPa9assddHjx6116nQcyxbtsx+reuurq5xBW0AyHQ6MqcArCA8FgXgu+++245cuBnj8Lkjzc3NtsEQ6z4AyAZpB2R1KoqKimwhVbf31VdfjTpsd/bsWduNcIVbQdkd6huLAvWWLVsSjmVs2rQpUuTdiX0K6nqO0tJS+xhdq7viRj0A4E6hcz40b7xjx46kxyIUetU4UF3UKJou7twRncfhZo/dfYRkANlmwk7SUxGVcLdXnVy/G1FeXm5ee+21pE7AE4VtPce+ffuCJdH8k/QOHz5sZ+40TqHncMFd17qtk/YA4E6gI2L6dAqd8+FqXyIaq9AIhmh+2Y1YKFRrnC3WUTbXpEi2qQEAd4oJG7FwhdQ/sc7Nwp0+fToSYnU5fvx4SiMPmzdvtp+OoTOtx6Jtatt6Dv859Roo8gDuBKpzjY2NNtjq2qdarMaARikcHT27fPmymT17tg3JCsup4KQ9ANlmQmeQ1e31T6zTCSEq1OG5uFRHHtQZaWhoME8//bS5du1asDQ2bVPbduMVjn+SCgBMZRpdk1gn2rmO8O7duyMNAR0905E41VLVQo29uaN9qtVqbOj8EK375ptvRtbTfarnOsmagAwgm0xoQBZ3Yp2Ks190fSrSKtapjDxoLi7cKYnF3xH49Br0WvSaVPTFH/3QRYcr9dmisnLlyshyXfjDIQAySbh+6eJmhVUv9TFvbsxMXP1ULdTjdKRN92kbqo3us46vXLkSWS98HwBki2nv6S9yvE9jEfE+ExMAcGtQewEg80x4BxkAAACYygjIAAAAgIeADAAAAHgIyAAAAICHgAwAAAB4CMgAAACAh4AMAAAAeAjIAAAAgIeADAAAAHgIyAAAAIAn6k9NAwAAANkuKiCXlJTYhQCAyUHtBYDMw4gFAAAA4CEgAwAAAB4CMgAAAOAhIAMAAAAeAjIAAADgISADAAAAHgIyAAAA4CEgAwAAAB4CMgAAAOAhIAMAAACetAKy/kRqXV2dGRgYCJYM020t1/3S2dlp6uvrzdDQkL3thNdvamoy1dXVo7bnaDu5ubn2WrQ9bdfddvf7l6qqqsjrcPzXo+cMr6OLXsepU6fM2rVrR60f7/sGgMmiOqT65mqWq4OOX9v8+tvS0hJZ7l9i1WgAyFYZ10GeOXOmaW9vD26NUOFubW0NbsWn4NrX12cGBwftZdeuXaa8vNzuFGJpbGy0j9M6Wvf48eP29uHDh83ixYtNTU2NOXToUPDoYbr95JNPmry8vGAJAEwevTnfvn27rW+qV6dPn7Zfuzfzqneqaa4WFhQUmD179tj7amtr7TJ3cbVPtS4nJ8c+BgCyXUaOWHR1dY3qZJw9e9YW88ceeyxYkpzKykq781DoHk/Hd8WKFaanpyey41GXRjuURYsW2dsAMNn6+/vNrFmzTGlpqb1dWFho5s2bZ65evWpv9/b2moqKikjgXbZsma1bsTrEqq1CTQOAERkXkB988EF77Yq209HRYZ544gl7KDBV2nlove7u7mBJ8tQlVkhW19h1sem0ALidXE1zR9suXbpkGwguMCsQt7W1RZoCqp9+YHaoaQAQW9oBWd3VoqKiyBybLrqt5eNx991322Ktou26Hereanuu+KdKhV+HGC9cuBAsSY3rIr/66qv2Np0WALeTappmjHW0TTVX4xYvvPBCZOxLR84aGhoitXn+/Pl2tCKM7jEAxJZ2QC4uLjbnz5+PmmnTbS0fLwVhbUddEVH3ViE1Pz/f3p5s2ulo5vjpp5+m0wLgtlNneOvWrWbLli22Vh44cMBs3LgxcqKeZpDVNXY1WWKdhKfHUNMAYLTbPmIxZ86cUcXZH2vQjkDd27KysuDe1GmnoPk7zeiNl8K55p/H28UGgImi0Qo1IUpKSuxt1Ux1jBV4VTN1/7p16+x9smbNGjNjxoxI00H0ONVFahoAjDYpAVnhUl2McPdCJ5Rcv349uBVNAVnF++DBg1E7gvHgMCIARNM5GRo9c2MZAIARkxKQ3Qkl+/btC5YMdy92794d9/CeiraKt0408TshqdKhxm3bttlDkRxGBHAn0BG1kydPRj5dx9VTnZyn2qmmgv/xlEePHrXNCNViR91mzSYDAEablICsYKoTStQR9k/k0yFBnUwSj4Lx0qVLo4r6WJqbm22wds+jjzs6ceJEWh1oAMgkqmc7d+40GzZsiNTT9evXR+qpPt9dXB1Uo2HHjh2RJoGO5t24cSOt0TUAuJNNe+99+kKdCEIkAEwuai8AZJ7bfpIeAAAAkEkIyAAAAICHgAwAAAB4CMgAAACAh4AMAAAAeAjIAAAAgIeADAAAAHgIyAAAAICHgAwAAAB4CMgAAACAJ+pPTQMAAADZLiogl5SU2IUAgMlB7QWAzMOIBQAAAOAhIAMAAAAeAjIAAADgISADAAAAHgIyAAAA4CEgAwAAAB4CMgAAAOAhIAMAAAAeAjIAAADgISADAAAAnrQCsv5EalVVlcnNzY26dHZ2Bo8YptvhxzQ1Ndn1165da699LS0tpr6+3gwNDQVLjBkYGDB1dXWjHuuL9Tzh1yJ6bv8x4efS11rm1nXfp9YL02t1y8PbdZfq6mr7+mMZa514Pztxr0uvIRb3ffjfX/j5/NfmHu/fr+27n3l4Xf8+n9uOe50S6/twF90X7983/G8Razv+9z/W9wDcKfT/3v9/Hq4z/u+r/7sorna4+93vFwBgWNod5OLiYnP+/HkzODhoL6dPnzbbtm0bVZAVfvr6+iKPa2xsNIWFhWbevHnm6tWrwaOGA05XV5d56623zKVLl4KlxvT399vr2bNn2+t4/Odxr8UVfxeedL//WioqKsyKFSsShqgFCxaYkydPJnyMvidtT9vW6zh+/Li9ffjwYZOXlxc8Kloy68T62Tl6Xe3t7TED+NmzZ01zc3Nwa8T+/fsj21q/fr3ZuHFj1PruNehy4sQJU1JSEtwTve7WrVvN9u3bRz23nlf0mt19lZWVkfW0Dfd966L7UhH+N3755ZdH7eATfQ/AnaC3tzfq99GvGa7+uvvEvZHU76R+b3ft2mXv0++QvuZNJACMmPARCwWRo0ePmp6enjELbk5OjikoKDAdHR3BEmND8YULF2wQ9oPzmTNnbBiPFzRj0WtRiNP2RK9LtPPQczu1tbX2cYcOHQqWjDZt2jTz8MMPm71799qgnSmuXbtm3nnnHdPd3R0sGabX2NraGhWmY1mzZo257777Im9AUqE3FbNmzRq1rv49a2pq7L+twvutpH/jVatWRf6NgWyiBkOYArDq77p164Ilxn7t3kjr91W/t6Wlpfa+WI0KAMh2t2QGWSFWYVahdizLli2z3UAXOlWklyxZYgOWC86uq6zHpkpdFnHb0Hb9cOyUlZXZnUq4G+rTOIi4oJ0J7rnnHttRVRj2g7veaMyYMcP+LBPROpcvXw5upU8/P/17auerfy/9zP3XBSB9+p3S71my3JE3hWMFYo1VuDevqhXqJLvADAC4hSfpzZ8/PxJORYf61VEMz7ypKKs4u3EKhWIFKwXWGzdu2B2BLnpMfn6+fUyy1MHWWIS2NdY2/B1IPNOnTzdbtmyxYXQyD0fG+9k5DzzwgL12ow2ibvjChQvta05EO0ltUztNZ+XKlZHn0khKvIC7b98++0bIH19QJ1uvVW+Swv+2t4J+FqdOnbLdbF+y3wMwlbn/5/6cvWtQ+EfE9HuuBoCoQaCjaHrzqnU1bvHCCy+kdHQOAO50tywgh4XnaN3cqd9tdocGFWIVWNXZVLhS6FIh90NcPH6Y3LBhg9m5c+eEzp9qW+pCJxrHmGjxfnaOQrDmqF3HXTtK/RzDodHZtGmT/fnoop1keOTEn9/ds2dP1H3+unoj449wKITqzYPr9KdyJCEV/r+xvudYM96JvgdgqtP/Z/2/dv/HNUOseudCsjvXwv2uXrlyxf4uiuqsRsr0Zl/rHjhwwJ6HEH7jDQDZ7JYFZHWP1UVOhus2q3s7Z84cG4T9cKX5UgXAZEKOHyb9k7O0rnYU8ebsXOd4rJMARcFTXctM2qHoNSkUawc51ry2f2JPquHRrasAunv37qiRFL2Z0cmVfvdW4butrS3h6MpYNCrid/7dv7FODs20fwfgdtCbZs3iuzej4QCt30lRfVM3WfXB1UbViYaGhsgbbADALQrIY3Uww9z8r0KXxgJcYFNwPnfunO1yxjoZJRXapt9lDRsrVPrcDkUBUZ2ZTKDXpJ+3fobaAfon6NwK2iEvXrzYjlk4+hlqJ+12yrooyM6dO3fUSYRh8d7AqCsdb0ba/3dIJ4ADd4p4dTKV+gYAuAUBWd288vJy8+STTyZdjN1JI88++2xUgVdwfvvtt23QmogTSPSJDQps7iOQHH38kbqcmzdvDpaMzQVEveZMoZ+Xvg+/O3Qr6eflOrgKsnojEz6Rcqw3Jo57XDjsxppz9sUK6sCdTr8jb775ZnBrZBY/Vp1Uw0KjT+5Ns+qE/5GV2pZ+78K/uwCQzdIOyOr8FhUVRQ6pqxArhIbnZMMnmvknTikc6b7ly5dHFXgF55kzZ05Y50PPo8OO4l6HLgp2Bw8eTPk5FBD1mm+1RD87n0KkOrjp7uj8EQld4o0wuA6uPmv69ddfNxcvXoy5gw7vkOPRx+3pc5n9/08y1kfVuaDu/8GQZL8HYKrS53+7/98KuJoldjXM/yMi4XMxdK3bWq779fum37twzQaAbDbtvffpC4WXyeg6AgBGUHsBIPNM2qdYTJTwn1d1l0zvEGqsI/ya+RPIAAAAmYcOMgDcRtReAMg8U66DDAAAANxKBGQAAADAQ0AGAAAAPARkAAAAwENABgAAADwEZAAAAMBDQAYAAAA8BGQAAADAE/WHQgAAAIBsx1/SA4DbiNoLAJmHEQsAAADAQ0AGAAAAPARkAAAAwENABgAAADwEZAAAAMBDQAYAAAA8BGQAAADAQ0AGAAAAPARkAAAAwENABgAAADzjDsj686hVVVUmNzd31KWlpcUMDQ2Z+vr6qOV6vNaTpqYmU11dbQYGBuztsM7OTruOriXW8+l5HPd4/6LnkFjruvvCtB3/dcb6PtxFy3W/Xkes7Wlb7jGxthP+/hN9DwDgqOaEa4Uurt6Iakes5eLf59c7AMCwcQfkkpISc+LECTM4OGiOHz9u6urqTF9fn71dW1sbPMrY+7RMFz1e6zkzZ8407e3twa0RKuStra3BrRHFxcXm/Pnzdlu6bmtriwrJ/mvQpbGxMbhn9LqnTp2KWlf0vMeOHTNLly41Z86csctycnLMnj17Ius99thj5vTp0/a2luv+VPg/j8WLF5vnnnsuaseV6HsAAFGNdTVCF9UM1Y6amhpbk1TbtMzVkoKCAluvRG/Kddutu3XrVrN3796oOgQA2e62j1h0dXWNKsxnz561hVthNJ68vDzT0NBgent7gyXJ07rr168fte6lS5fs9eOPP26De7zu9kRZt26d/T7ZMQFIh2qmLFq0yF6rtlVUVETewC9btsyGZdUa1T+FaaesrIw6BAAhtzUgP/jgg/baFXeno6PDPPHEE/bwXyIXLlwIvpoY6hovXLjQdrn13N3d3cE9AJCZFGx1xM11j0WBWEfY3Jt81VQ/MPsOHTpkVqxYYYMzAGDYLQ/IK1eujMy6hefg7r77blvUVdzdcs3C9fT0mNLSUns7HhV+7QC0I3Cam5vtoUP3fG5+OUzPoedUB9fR8587d852U7QT0c5EO5VbRc+nw5rhHVOy3wMASLh7LJWVlfYIW1FRka0j8+fPjxp98893UA317wMATEJA9mduY83sKgjrPjfe4LoZ+fn59rZPwdkVfF1rB6AdgROe3/Xv89dVMH311Vej5qG1k7l+/bopLCy0txWUtc5Ej1m4Nwz6Hrds2TJqx5ToewCAML2R97vHohlkLXd1RPwGheqKu0+PCzcvACDb3fYZZHVPFRYVjBVGFUoVTmPxT7TTJZXw6NZV+JSjR4/aa0c7Cb97W15ebl577bWYJxGmQtvzd1zuDQMnxgBIl2qmapp/xE3LVLf8I2Rr1qwxM2bMiDQifArHEh51A4BsdtsDsiggq8gfPHjQBlm/szvRFFbVudWIhftoIxfM3adTuIvCbKyTCMPmzZtnX3/4cYlmpLXDknBQB4Bk6TwJvQlnfhgAJlZGBGQVdxV5zRT7XY9bRQFchyRdB1c7GXWN3XiFEx7/iEePu3jxYlTYjTXn7IsV1AEgFTrypflin+qpGg06KueoNrkRMs0f++c26D7Vr7HO+wCAbDKpJ+npEu+kMwVJff5wOKSmInyCW6K5OtfB3b17tw2psc7wjrWjiUWPO3DggA347rk3bNhgdu7cmbAb7oL69u3bI7POqXwPALKX6sKNGzdijqS5z093dUS1aceOHbbG6fyObdu2Rd2n+kUXGgBGTHvvffpCXcxbOdoAABiN2gsAmScjRiwAAACATEFABgAAADwEZAAAAMBDQAYAAAA8BGQAAADAQ0AGAAAAPARkAAAAwENABgAAADwEZAAAAMBDQAYAAAA8UX9qGgAAAMh2UQG5pKTELgQATA5qLwBkHkYsAAAAAA8BGQAAAPAQkAEAAAAPARkAAADwEJABAAAADwEZAAAA8BCQAQAAAA8BGQAAAPAQkAEAAAAPARkAAADwpB2QOzs7TW5ubuTS1NQU3DNsYGDAVFdXRz2mpaUluHeY/tRqXV2dfWwi2nZ9fb0ZGhoKlgzT+lVVVVHPEX4dsWg72p6/nl5rrNfhnkPfb5iey9+GLrFepx4X/t5F29S29RwS63WFtxtrW7F+DuHX6/69Yr2OeK8PQObR76r7PffrR6ya6y76/ffX8y+xahYAZKu0ArIKbWtrq+nr6zODg4P2snDhwkiRVcFes2aNWb9+feR+PbarqyvlYqxtaV25dOmSvfYVFxeb8+fP2+fQ9alTp5IOe8ePH4+8vsWLF5vnnntu1Gs7dOiQWbVqleno6AiWRNu/f39kG7oUFBSYFStWRHZa8eh5jh07ZpYuXWrOnDljl+Xk5Jg9e/bY7eh7eeyxx8zp06ftbS3X/WHa8ZWXl5tdu3ZFXoPW3b1796g3C4888ohpb28f8w0JgMyk392bN29Gftf1e799+3a7PC8vzxw+fDhyny6qcWpCLFq0yNTW1kbdp7qq+2pqamLWFgDIRmkF5N7eXlNRURFVVFevXm1vK/jt3bvXbN261RZkR/e5wHb27Fl7nQyFRz2XLgqriWgHoVCu15eqdevW2Z2GH5C109FOREG1p6dnzNArjY2N9nsf67W6sP/444+PO7RqHQVh7QQrKyuDpcM/hwMHDox6zfPmzTNz5swx+/btC5YAmEr0u61Q6yj4zp0713R3dwdLRqiWqZERLwC7OqxtAACGpRWQ58+fb7vB4W6rKPgpaKqLGqYiraAbrxsbpu2fO3fOlJWV2YsC33iC5Hhpp6OOsLrUurhO71iSea3alrruJSUl9jBnrB3cWLSOdo6xdnDakcZ6zU899ZTtsodHMABMPaqRqrf5+fnBkhGJAvBY4RkAslVaAVmdYQVHXcLjDFevXrWBL17RVRdTXdlY4TrMdVkLCwvtZawgqW6pir66wanQa1HXW6FewdJRkF+2bJn9Wtfx3hSEzZ4921739/fb6zBtwwX/VN80+C5cuGD/DeL9rPVGJtxN1460oaHBdp4n880GgImno0+qi6qPvrECMN1jAIgt7ZP0NErg5or9E0UmksYU1GVVgY8XJNWpLSoqsjsJhdxXX33VdmWTsXLlSruegvGWLVuiRkL0/WjbpaWl9rau1amJNQedKu2crl+/HtmpTXZ3XOMYmrnWzhXA1KTmRFtbm9mxY8eoEKw6NWPGjLgBWHWU7jEAjJZ2QBYVV5085p8oog5leJbXN1bX09G2NAqwadMmG2J10ddvvPFGVBh3J+m5E/mOHj1qr5PhTtLTzLDCtf+aNZrw2muvRcK3rnV7rNlicZ1j10kO086pubnZ/hy0bZ1kp22nGljH6sare6wucizqsqvDdCve2AC4dfT7rpOd9futk/L8o16OG+GKVWdVW1U33Jt/AMCICQnIjgrtrFmzbDBMNAqhwq6OsxtbSMTN16qQK8S6iz5RItYssHYE6gKPJ/TpEzfEhWv3Ov1PudBFnyiRTKdXITo8ruFoXW3DfTqFu+i5kh3hcBJ1td3zqDsdi7rs6iDpjcGNGzeCpQAymeqDjt7pd1fXsegxboQrFtVWvTmPVZ8AINulFZDV/fRDogrutWvXbMfUBdVt27ZFnQjmCrsKs/+JC/Goy6qRinAHJNEssB/6Ugma4XDtTjQMd1jGmoPWc6qzo1DvQneY1tU2wjOD4xnh0A7uySefNBs2bIh6U6B/m40bN9qQnmjcxL3GF1980V4DyGzJzA6rhly+fDnhEax4R5YAINulFZCnT58eGT3QRSd86WPFXEdCoUzdWC13j1EwVuANdz3U5fS3pQ+612jFyZMnY3ZAFCQvXrwY2VGEudCn0Y9UuHCtUZFPfepTdnQj3GFRkNb3oCDtArg/AqLvUduI95nFWkfrxgr+ei49ZzIjHD692XjllVdsSHavQz9PnYjnz1TH4t4Y3H///cESAJnOH89yF/8zz3WidKz6JapBOmIUr7sMANlu2nvv0xfqPCbqMgIAJh61FwAyz4TOIGcijRnE+rOr/FlVAAAAxEIHGQBuI2ovAGSeO76DDAAAAKSCgAwAAAB4CMgAAACAh4AMAAAAeAjIAAAAgIeADAAAAHgIyAAAAICHgAwAAAB4ov5QCAAAAJDt+Et6AHAbUXsBIPMwYgEAAAB4CMgAAACAh4AMAAAAeAjIAAAAgIeADAAAAHgIyAAAAICHgAwAAAB4CMgAAACAh4AMAAAAeAjIAAAAgGfCAnJTU5Opr683Q0NDwZJhLS0t9r6wzs7OyON1f25u7qhLdXW1GRgYSGobuujrWK/B0Xaqqqrsn3YVXet2rG3He04AyAR+3fTrmqhuqn769VQ1zXG1L9a6AIAJCsgqrn19ffbrS5cu2etUNDY2msHBQbuNuro6c/z4cXv78OHDJi8vL3jU2GbMmGEuXLhgzp49GywZoR1GW1tbcGvEggULzMmTJ9lBAJgyVM8KCgpsndRl69atZu/evZHmQH9/v5k1a5Y5f/585DG1tbX2PtW6Z555xrzyyit2ua6ff/55u00AwLAJCchnzpwxFRUV9nLo0KFg6eS7fv263Sl0dHQES0a0t7ebuXPnmuLi4mDJsGnTppmHH344aucCAJlMjQM1E5yysjIbdv0aNmfOHJOTkxPcGqF6vWTJElNSUmJv61p1UTUSADAs7YCsgnzu3DlboHXp6em5rZ0IHVbUa/A7wu411tTUBEuirV271l4fPXrUXgPAVKLGxIoVKyJH3K5evWobBsmaP3++6e3tDW4BANIOyG6korCw0F4009bd3W2X3Q6zZ8+2Owq/k62RC+0s9PpimT59utmyZYtpbW1l1ALAlKBzMNx88bJlyyIjFE5zc7Mdw9D9/vkUamT4Y2Xxxs8AIJulHZAVRBcuXGgP5emiMYtYIw6Tye9kq3us4KvusYJwPDrMqMfczhERAEhWZWVlZL5YNdc/Qdm/T+d26OJCsmrdtm3bTHl5uQ3PGzduNA899JC9DwAwLK2ArAB66tQps2nTpkgnQ1+/8cYbSXVi1d2INSOXiljb8Gfq1OHWTqK0tDS4Nz51nvX9qDMDAFOFwrHEOkFZ9VFHyPzxNz9A62RoHWHTmAUAYFhaAVmjFDrxTd0JV2x1WbVqlT0RRObNm2fv908eEX3aRLLGs41169bZuePf+73fi5rNS0SPaWhoMLt37zZXrlwJlgLA1BfvpD2FZoVnHXkDAAxLKyDrsJ5GKsJFV/NwXV1dNtCqc3vx4sWoE+DUXdbYg0JsMsazDc0bqyvyuc99zgbkZKmzsnjxYvPss88GSwAgs+gol3+kS7VRNdIdKXvzzTcj3WLVYX1KjxuFC9u3b5894uY+1QIAkEZAVkDViR6xug4u0Opwn7qyBw4csCeBuDGMDRs2mJ07dyZdkMezDe0INFOssJtM99i3efNms3z58uAWAGSW/Px8O0fs6qFqo2qkq3U6AlZUVGTv0xiaGhnuJD4FZ/+PiIg+ix4AMGLae+/TFwq8dBAAYHJRewEg86T9KRYAAADAnYSADAAAAHgIyAAAAICHgAwAAAB4CMgAAACAh4AMAAAAeAjIAAAAgIeADAAAAHgIyAAAAICHgAwAAAB4ov7UNAAAAJDtogJySUmJXQgAmBzUXgDIPIxYAAAAAB4CMgAAAOAhIAMAAAAeAjIAAADgISADAAAAHgIyAAAA4CEgAwAAAB4CMgAAAOAhIAMAAAAeAjIAAADgSTsgd3Z2mtzc3MilqakpuMfYr/37qqurzcDAgL1vaGjI1NfXx71ftG09Ro8Vba+qqsr+aVaf1qmrqxu1PPzadPFfHwBMdap7H//4xyN10vHrb7y6F29dAMh2aQXklpYW09raavr6+szg4KC9LFy4MKrY7t+/P3Lf+vXrzcaNG6NC8PHjxyP3L1682Dz33HMJi/WCBQvMoUOHglvxaYewe/duc/78+cj29bWwMwBwJ1CdKy8vN9evXw+WDHOB2NU+Ub32xVsXAJBmQO7t7TUVFRUmJycnWGLM6tWro2771qxZY+677z7T398fLIm2bt06W8wTBdiysjJz6tQp2x2OR/cptB88eNDk5eUFS439urGxMe7rA4CpwoVgNRl8akD09PTYeuro6/b29khzIt66AIBhaQXk+fPnm66urqQ7snrc5cuXg1vjc++995qGhgbbHfY70Y6eQ13tmpoagjCAO5be7OuSjNmzZ9tr15xIZV0AyEZpBeTa2lpTUFBgL+HDd7Gog6F5uMLCwmDJCAXbvXv3mhUrVkR1fWOprKy04xj79u0LlozQdtSFzs/PD5YAQPZQ/SwuLo4aRVPtVVcZAJCctE/SUxdC4wzqJMc6gW7Tpk2RE0X0GB3a8zu7K1eutPcpGG/ZssWG7mRs3rzZFvzw88Xin6wXPhEQAO40OrlZddnVvStXrtjQDABITtoBWRR49+zZY3bt2mW2b98eFUD9k/T0mPDYgztJb+vWrbaDnOy4hrokCtVa5+bNm8HS4deiHcLVq1eDJcMdZz3H6dOnzaxZs4KlAHBncjXZ1V41IsSNWgAAEpuQgOyUlpbaABrvJLxEdAKfHD161F4nw61z5MgRey3aMejEwY6OjmAJAGS3M2fO2A7yWONrAIBhaQXk5ubmqG5xd3e3uXbt2ri6FAq2GrHQCXbJjE2IW6etrS1qvk7BWYcX/c9QBoBspHqquup/qgUAILG0AvL06dNNUVFRZM5Nnyxx4MCBcXcpSkpK7KdPhMc0EtE6Gs/wucOL7gRC9/r0mZ9PPvkkXRQAdzSdNO3q3oYNG8zOnTttrQQAJGfae+/TF+oyUEABYHJRewEg80zoDDIAAAAw1RGQAQAAAA8BGQAAAPAQkAEAAAAPARkAAADwEJABAAAADwEZAAAA8BCQAQAAAA8BGQAAAPAQkAEAAABP1J+aBgAAALJdVEAuKSmxCwEAk4PaCwCZhxELAAAAwENABgAAADwEZAAAAMBDQAYAAAA8BGQAAADAQ0AGAAAAPARkAAAAwENABgAAADwEZAAAAMBDQAYAAAA8aQfkzs5Ok5ubG7k0NTXZ5UNDQ6a+vt7eH6bHtLS02K/1Z1arqqoit8PcdnTR1+KeM9a2ZWBgwFRXV496Lf7r1HPquWPdp3W1DQDIdKpjH//4xyP10VH9czXN1ULH1V13f7xaCgDZKq2ArFDb2tpq+vr6zODgoL0sXLhwVKEey4IFC0x7e3vMUHr27FnT3Nwc3BrxyCOPmGPHjsV8Lm3r05/+dHBrxPHjxyOv88SJE6akpCS4J/q+xYsXm+eeey7l7wMAJpOCb3l5ubl+/XqwZJgLxK6miWtCqM5u377d7Nq1y953+vRp+7VCMwBgWFoBube311RUVJicnJxgiTGrV6+Oup2Ma9eumXfeecd0d3cHS4YpoCqANzY2BkuiffaznzWXLl0Kbg1T8VdA/tjHPhYsSd26devsjoOADCBTuRCsN/c+1cCenh5bxxx97ZoQ/f39ZtasWaa0tNTeV1hYaObNm2euXr1qbwMA0gzI8+fPN11dXWkHyXvuucfU1dXZMOxvS+F3xowZZsmSJcGSESrojz76qDl06FCwZJhCdnFxse1kA8CdSo2DeM2DsNmzZ9trhWMFYo1VKDCL6qwaAi4wAwDSDMi1tbWmoKDAXuLNECfrgQcesNcaqXAUfhV0p0+fHiyJtnLlStspcYcGXcd52bJl9naYHu9m7vyZZp+W7d2716xYscLk5eUFSwFgalDdUpPAbx4oDKtWio7wqfus5oZqocYtXnjhBeodAHjSPklPHQzNIKvYuhPfxkMhWOMaHR0d9ra2o4KuoBpPfn6+3RGcOXPG3nbhetGiRfY6zJ8z3rNnT9QoiAvPer4tW7bY8A8AU5EaAKrLriFw5coVWytFYxZbt261dU618MCBA2bjxo2cqAcAnrQDsihoKnDqRA91I1SAx6IRiTCFU9cRVuhVQR+rq+HP1ilch2eik+XCs3Yc6iCnOzYCALeLq8muIaAGgGjUQvVStdWdpKwa29DQEGlOAAAmKCA7mmHTyR+ac1OB1ujFhQsXgnuHKXiqsxGLCrVCssKqirh/kkk8KvIq9keOHBmz45yMNWvW2OujR4/aawCY6pJtOAAAhqUVkPXxa363WCfI6RMp3AkhmgV++eWXo8YuXPCMNwZRVlZm2traojocY9HzPP300zYcp7sDULDXoUfNMo93XAQAMoXqmOqZazioxp48eTJS31TDd+/eHffcDQDIRmkFZM0NFxUVRebcVGQ1z+ZCamVlpR270Od0usdoVlkniMQbg1AoXrVqVUrFWmFbH+umwp+If5KeLvFm7vQaampqkh4XAYBMopOmXZ3bsGGD2blzZ6ThoGvd1nLdrxq+fv16W68BAMOmvfc+faFuQrIdWwDAxKD2AkDmmdAZZAAAAGCqIyADAAAAHgIyAAAA4CEgAwAAAB4CMgAAAOAhIAMAAAAeAjIAAADgISADAAAAHgIyAAAA4CEgAwAAAJ6oPzUNAAAAZLuogFxSUmIXAgAmB7UXADIPIxYAAACAh4AMAAAAeAjIAAAAgIeADAAAAHgIyAAAAICHgAwAAAB4CMgAAACAh4AMAAAAeAjIAAAAgIeADAAAAHjGHZD151HXrl1rr30tLS2mvr7eDA0NBUuMGRgYMHV1dfaxuuhrLZPOzk6Tm5tr1wtramqKLNf2tF091r/oMclyzxVeN9a2/e8h1v1VVVX2e0n1Pl1Sec0AEIvqiKsprubEosep9sWj9bT+WNsBgGwy7oBcWFho5s2bZ65evRosGQ6SXV1d5q233jKXLl0KlhrT399vr2fPnm2vwx555BHT3t4eCc2JHD9+3AwODtpLX1+fvVRXV4+5roJ2a2urfbxbf+HChZEQLP62CwoKTGNjY9z7T5w4YUpKSoJ7kr8vldcMALGodqhGubqydetWs3fv3qh65YJvojfkeswzzzxjXnnlFbsdXT///PPUJgBZb9wBOScnxxbojo6OYImxofjChQs2CPvB+cyZM6a4uNjk5eUFS6IpaM+ZM8fs27cvWJIcvYY9e/aYxYsX24CdSG9vr6moqLDrOKtXr4667du8ebO99nc4EyGV1wwAsaiW6kicU1ZWZgOuq1cu+L700ktRjwtTbV6yZEnkDb2uVaupTQCyXVozyMuWLbPdUFeUFYpVbGtqaiLBWfepq6zHJvLUU0+ZU6dOJTwUGI+2redIFGbnz58/5mN86nprh3OrJPOaASAZhw4dMitWrIg0IRR0jxw5EnUkK1mqlWooAEA2Sysgl5aW2hDpxikUihX81M24ceOGDX+66DH5+fn2MfHo/oaGBrN79+6UD+9pXb97Ekttba3teOsSa945TDuccNd75cqVkZk/f0ZZEt0XSzKvGQDi8c+pUN1VjUuVavXJkycjc8eqvW1tbfZrAMhmaQVkhUeFSB2mU2Ht6emxwU8jFpcvX7bBubu72xZwzSyPpbKy8paOHmimWB1vdW5jnYzih1zR433+LLHGJPzxjET3AcBEU710NUfNiWTemIepw7xt2zZTXl5u697GjRvNQw89FNwLANkrrYAs7nCcRhI0R6wg7AdnzSSHZ38TWbdunT2ZLhxeE9Foh4p7Ms/hZoB37dpltm/fHtWt9kNuOBxPtFReMwAkonAsZ8+etdep8IP24cOHzfXr121dB4BslnZA1iE6dY4VLvWpEC7wqcCeO3fOdmt1El6y1NHQDLPOyNaYxljUMVGg1jqphE2Nh8yaNSvyCRuTabyvGQBuJXckUHUdALJZ2gFZHWN1Qp999tmoIKwC+/bbb9uuhMJoKtasWWOvX3zxRXsdj4r5E088YeeK1QVJpLm5OapbrNGPa9euxf3ouVslldcMALFo/tg/ofno0aPm4sWLSdVarRfvYyb1SUI6+jeek/sA4E6SdkBWB1Rhb/ny5VHFWcF55syZo050S4a2uWXLFnP//fcHS0b4c8IK0vrMzmTGIaZPn26Kiooi6+pkwAMHDqT02vzn1sXfQSV7XyqvGQBi0bkemh12dUUn1qVaz0QhWWHZbUeoTQBgzLT33qcvNPNL1wAAJhe1FwAyT9od5Eyij29znRD/4ndzAQAAgEToIAPAbUTtBYDMc0d1kAEAAIB0EZABAAAADwEZAAAA8BCQAQAAAA8BGQAAAPAQkAEAAAAPARkAAADwEJABAAAAT9QfCgEAAACyHX9JDwBuI2ovAGQeRiwAAAAADwEZAAAA8BCQAQAAAA8BGQAAAPAQkAEAAAAPARkAAADwEJABAAAADwEZAAAA8BCQAQAAAA8BGQAAAPCMOyDrz6PW1dWZgYGBYMmIzs5OU19fb4aGhqK+Fl3rdm5urr1UVVXZbUn4sU1NTZHH6VJdXR31fLq/paXFfu22q22E+a9V9/vb9C+f+cxn7DbcNp1E2waA20F1ytUuv46GqU4mql1aT+uPtR0AyCbjDsiFhYW2oLa3twdLRnR0dJiKigqTk5MTLBmmgPrEE0+YmpoaMzg4aC+vvPJKJBDHsn///shjFy9ebPbt2xfcMz6VlZWR7WnbjY2NkdsPPfSQ2bJli/2e/CB+9uxZU1BQYNcFgNtN9enmzZuR2rVr1y6zffv2qLrlgq8Ccjx6zDPPPGPrsLaj6+effz5qOwCQjcYdkBV+FYK7urqiAq4Ka09PjykrKwuWjOjv7zezZs0ypaWlwRJjSkpKzP333x/cSmzZsmWmr68vYaBOl15PcXFxJPjr+/nEJz5h1q1bZ28DwO2Wl5dnj4o5ixYtMnPnzjXd3d32tgu+L730UtTjws6cOWOWLFli656E6x8AZKu0ZpAVgi9cuGAuXboULDG2QKuzrA5z2OzZs821a9ciRTwVCsWtra22+xzuTE80hWHXRda1dhhuBwIAmUb1UR3g/Px8e1v16siRI+OqW/Pnzze9vb3BLQDITmkFZIXgefPm2S6EuBAba7xC1PXQ4btt27aNmieOZ9OmTTZwa8RhssYcXBfl4MGDNiDTPQaQyVSn4jUmElGT4+TJk5G5Y9XktrY2+zUAZLO0AnJ4zEKdZHUxVqxYETxiNIXPEydOmIaGBlNUVJRwPk78GWR1NvyT+G6lzZs325P26B4DyGQ6WU+hdseOHSkfXVNtU8OivLzcBuyNGzfaczEAINulFZBFYVjhVeFYnWQFSnWKx6JOsOaJdQl/akQ8a9asMTNmzIga6bhVtKPRTJ/mngEg06hRoIaBxiEOHz6cVN2NxT9xWdu5fv26bUYAQDZLOyCrKCsUqyusTnIqgdJ1oJOdd9MO4fLly8EtAMhOqoX6BB6dk6HriZLoJGsAyCZpB2RRKH766afNxYsXoz6hIkxzbq+//npwa7jIK1Qn260Y75wdANxJ9NGTok+vSJU+EzneOSD6GE3GygBgggKyQvHy5cvt5xQnOsynT7H45Cc/aUOuO/FOHeTa2trgEaO5k/R0SWbObuXKlZHH68If9wBwJ2pubrY11K93Y53TEaaQrLDs1peJ7EgDwFQ17b336Qt1d+kaAMDkovYCQOaZkA4yAAAAcKcgIAMAAAAeAjIAAADgISADAAAAHgIyAAAA4CEgAwAAAB4CMgAAAOAhIAMAAAAeAjIAAADgISADAAAAnqg/NQ0AAABku6iAXFJSYhcCACYHtRcAMg8jFgAAAICHgAwAAAB4CMgAAACAh4AMAAAAeAjIAAAAgIeADAAAAHgIyAAAAICHgAwAAAB4CMgAAACAh4AMAAAAeNIOyJ2dnSY3NzdyaWpqCu4x9uuqqir7p1R9AwMDpq6ubtTylpaWqG1VV1fbx4oeu3bt2pjr1NfXm6GhoWBJ9Pa1XPf72w2/Jn0PsV6nW1f3h2lZ+HkBYLL49TJW/RLVYPcYvzY7WufjH/84dQwAQtIKyCrQra2tpq+vzwwODtrLwoULo4rtggULzKFDh4Jb8al4t7W1mfPnz0e21dDQYIqKimwYLSwsNPPmzTNXr14N1hgOsF1dXeatt94yly5dCpYa09/fb69nz55tr+X48eOR7Z44ccKUlJTY5drGsWPHzNKlS82ZM2fsMgDIZGoC3Lx5M1LTdu3aZbZv3x5pKKiu6Q28uMc0Njba245qbnl5ubl+/XqwBADgpBWQe3t7TUVFhcnJyQmWGLN69eqo22VlZebUqVMxu7CO7tNjDhw4YPLy8oKlxlRWVtpgqxAuBQUFpqOjw34tCsUXLlywQdgPzgq6xcXFUduKxwXrxx9/3LS3t0d2MACQqVTbdJTMWbRokZk7d67p7u62t8+ePWuvXUgOc91k1VcAwGhpBeT58+fbDm6iw3P33nuv7QTv3r07bvhU6F2/fn3MQFtaWmq7Hwqyy5Yts91q93wKxUuWLDE1NTWR4Oy6ynpsMhSm1fVWR1mHId0OBgCmCtU91cn8/Hx7W/VQddFvVvjUTQ53lAEAI9IKyLW1tbarq4vGLeJRJ3jx4sVm3759wZIRKuwKvRqfiEUFXsFVYdgPy6KdgIKwutQ3btyw2wrvKBLRY8+dO2fX1/OoG+53qAFgKtDRL9VJjaKprqkeatRMs8laHm9GGQAQW9on6akLoYCrrm2iIrx582bT09OTVpFWh1mjE+r6qhut7SkIa8Ti8uXLNjirA+x2FL6VK1fa5bq4k+t0GFLzd+6xCsraJmMWAKYKNSd0/saOHTsiHWPVtTfffNMGZzUMwjPKAIDE0g7IoqK8Z8+ehEVY4XbFihVm79699uQSR+uqA61Z4ljCHWGNdWj2Wd2ROXPm2HDrB2dtJzwXLf5Jenqtul/d4ubmZvv8Cs46YeW1116zOxUAyGSqjXqzr3p4+PDhUSNq/ohFeEYZAJDYhARkRyMQs2bNinyKRNiaNWvs9ZEjR+y1ozGJeLPM4Y6w6/Iq8Gp22O0AFJw1LqHtxBvX8LkO9OnTpyPBWRdtd6y5agC4nVSfdPROITg8S+yaDgCA8UsrIKv76neLFWavXbsW9fFqPhXuLVu22MOBCqeOZpRV0FXo/WCqT7fYtm2bXccFYQVlBeZnn302KggrOL/99ts25CqojyXeKEZ4zhkAMo37lAp1hmNR08E/MVqPv3jxYlK1EQCQZkCePn26/ZxiBU1dVJDDH9UWpk+L2Lp1a3BrhMKxRiPcuIPb3tGjRyOfWSyuO7J8+fKoYq+gO3PmzKQ+3k0hXB8dF2sUw41r+J/d7M8v6+I+ss4fz9CFPxwCYLKE648u7uPb1HRwnyOv5cnUZgDAiGnvvU9f6OQ5P4gCAG49ai8AZJ4JnUEGAAAApjoCMgAAAOAhIAMAAAAeAjIAAADgISADAAAAnkhAnjZtmgk+0AIAAADIWpGAfNddd5l33303uAUAAABkp0hA/uAHP2j/Ch4AAACQzSIB+Z577jFf+cpXzDvvvBMsAQAAALKLsnDUSXof/vCHzZe+9CXzxS9+0f7JZGaSAQAAcKdT5lX2VQZWFo78qWmfkrPu/PKXv0xIBgAAwB1NH1ah8/E0cqypipgBGQAAAMhWUSMWAAAAQLYjIAMAAAAeAjIAAADgISADAAAAEcb8fxerEcY+A7I8AAAAAElFTkSuQmCC)\n"
      ],
      "metadata": {
        "id": "8U8E_u6r7neY"
      }
    },
    {
      "cell_type": "markdown",
      "source": [
        "# Next Steps"
      ],
      "metadata": {
        "id": "kb7UjhrU8jmS"
      }
    },
    {
      "cell_type": "markdown",
      "source": [
        "Great! Now you have built a baseline linear regression model to predict hourly bike rent count, with reasonably good performance. In the next lab, you will be refining the baseline model to improve its performance."
      ],
      "metadata": {
        "id": "eYMaSSoU8mL0"
      }
    },
    {
      "cell_type": "markdown",
      "source": [
        "## Authors\n",
        "\n",
        "<a href=\"https://www.linkedin.com/in/yan-luo-96288783/\" target=\"_blank\">Yan Luo</a>\n"
      ],
      "metadata": {
        "id": "_ckg7wb38pSg"
      }
    },
    {
      "cell_type": "markdown",
      "source": [
        "### Other Contributors\n",
        "\n",
        "Jeff Grossman"
      ],
      "metadata": {
        "id": "G1wRyN1c8rva"
      }
    },
    {
      "cell_type": "markdown",
      "source": [
        "## Change Log\n",
        "\n",
        "| Date (YYYY-MM-DD) | Version | Changed By | Change Description           |\n",
        "| ----------------- | ------- | ---------- | ---------------------------- |\n",
        "| 2021-04-08        | 1.0     | Yan        | Initial version created      |\n",
        "|                   |         |            |                              |\n",
        "|                   |         |            |                              |\n",
        "\n",
        "## <h3 align=\"center\"> © IBM Corporation 2021. All rights reserved. <h3/>"
      ],
      "metadata": {
        "id": "XZt6pAtY8uSR"
      }
    },
    {
      "cell_type": "code",
      "source": [],
      "metadata": {
        "id": "Bp4lGXWN5gzP"
      },
      "execution_count": null,
      "outputs": []
    }
  ]
}